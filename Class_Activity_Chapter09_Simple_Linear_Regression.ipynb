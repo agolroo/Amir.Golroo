{
  "nbformat": 4,
  "nbformat_minor": 0,
  "metadata": {
    "colab": {
      "provenance": []
    },
    "kernelspec": {
      "name": "python3",
      "display_name": "Python 3"
    },
    "language_info": {
      "name": "python"
    }
  },
  "cells": [
    {
      "cell_type": "code",
      "source": [
        "import numpy as np\n",
        "import matplotlib.pyplot as plt\n",
        "from sklearn import datasets, linear_model\n",
        "from sklearn.metrics import mean_squared_error, r2_score\n",
        "import pandas as pd\n",
        "import seaborn as sns\n",
        "%matplotlib inline"
      ],
      "metadata": {
        "id": "z3tOqiZABmsK"
      },
      "execution_count": null,
      "outputs": []
    },
    {
      "cell_type": "code",
      "execution_count": null,
      "metadata": {
        "id": "CEHaZf7T-5V6"
      },
      "outputs": [],
      "source": [
        "import numpy as np\n",
        "import matplotlib.pyplot as plt\n",
        "\n",
        "def estimate_coef(x, y):\n",
        "\t# number of observations/points\n",
        "\tn = np.size(x)\n",
        "\n",
        "\t# mean of x and y vector\n",
        "\tm_x = np.mean(x)\n",
        "\tm_y = np.mean(y)\n",
        "\n",
        "\t# calculating cross-deviation and deviation about x\n",
        "\tSS_xy = np.sum(y*x) - n*m_y*m_x\n",
        "\tSS_xx = np.sum(x*x) - n*m_x*m_x\n",
        "\n",
        "\t# calculating regression coefficients\n",
        "\tb_1 = SS_xy / SS_xx\n",
        "\tb_0 = m_y - b_1*m_x\n",
        "\t\n",
        "\treturn (b_0, b_1)\n",
        " \n",
        "\n",
        "def plot_regression_line(x, y, b):\n",
        "\t# plotting the actual points as scatter plot\n",
        "\tplt.scatter(x, y, color = \"m\",\n",
        "\t\t\tmarker = \"o\", s = 30)\n",
        "\n",
        "\t# predicted response vector\n",
        "\ty_pred = b[0] + b[1]*x\n",
        "\n",
        "\t# plotting the regression line\n",
        "\tplt.plot(x, y_pred, color = \"g\")\n",
        "\n",
        "\t# putting labels\n",
        "\tplt.xlabel('x')\n",
        "\tplt.ylabel('y')\n",
        "\n",
        "\t# function to show plot\n",
        "\tplt.show()\n",
        "\n",
        "def main():\n",
        "\t# observations / data\n",
        "\tx = np.array([0, 1, 2, 3, 4, 5, 6, 7, 8, 9])\n",
        "\ty = np.array([1, 3, 2, 5, 7, 8, 8, 9, 10, 12])\n",
        "\n",
        "\t# estimating coefficients\n",
        "\tb = estimate_coef(x, y)\n",
        "\tprint(\"Estimated coefficients:\\nb_0 = {} \\\n",
        "\t\t\\nb_1 = {}\".format(b[0], b[1]))\n",
        "\n",
        "\t# plotting regression line\n",
        "\tplot_regression_line(x, y, b)\n",
        "\n",
        "if __name__ == \"__main__\":\n",
        "\tmain()\n"
      ]
    },
    {
      "cell_type": "code",
      "source": [
        "import matplotlib.pyplot as plt\n",
        "import numpy as np\n",
        "from sklearn import datasets, linear_model\n",
        "from sklearn.metrics import mean_squared_error, r2_score\n",
        "\n",
        "# Load the diabetes dataset\n",
        "diabetes_X, diabetes_y = datasets.load_diabetes(return_X_y=True)\n",
        "\n",
        "# Use only one feature\n",
        "diabetes_X = diabetes_X[:, np.newaxis, 2]\n",
        "\n",
        "# Split the data into training/testing sets\n",
        "diabetes_X_train = diabetes_X[:-20]\n",
        "diabetes_X_test = diabetes_X[-20:]\n",
        "\n",
        "# Split the targets into training/testing sets\n",
        "diabetes_y_train = diabetes_y[:-20]\n",
        "diabetes_y_test = diabetes_y[-20:]\n",
        "\n",
        "# Create linear regression object\n",
        "regr = linear_model.LinearRegression()\n",
        "\n",
        "# Train the model using the training sets\n",
        "regr.fit(diabetes_X_train, diabetes_y_train)\n",
        "\n",
        "# Make predictions using the testing set\n",
        "diabetes_y_pred = regr.predict(diabetes_X_test)\n",
        "\n",
        "# The coefficients\n",
        "print(\"Coefficients: \\n\", regr.coef_)\n",
        "# The mean squared error\n",
        "print(\"Mean squared error: %.2f\" % mean_squared_error(diabetes_y_test, diabetes_y_pred))\n",
        "# The coefficient of determination: 1 is perfect prediction\n",
        "print(\"Coefficient of determination: %.2f\" % r2_score(diabetes_y_test, diabetes_y_pred))\n",
        "\n",
        "# Plot outputs\n",
        "plt.scatter(diabetes_X_test, diabetes_y_test, color=\"black\")\n",
        "plt.plot(diabetes_X_test, diabetes_y_pred, color=\"blue\", linewidth=3)\n",
        "\n",
        "plt.xticks(())\n",
        "plt.yticks(())\n",
        "\n",
        "plt.show()"
      ],
      "metadata": {
        "id": "ybQp2zvGIKRv"
      },
      "execution_count": null,
      "outputs": []
    },
    {
      "cell_type": "code",
      "source": [
        "df = pd.read_csv('/content/drive/MyDrive/Class_Activity_Chapter09_Single_Regression.csv')\n",
        "df.columns = ['Population', 'Profit']\n",
        "ax = sns.scatterplot(x='Population', y='Profit', data=df)\n",
        "ax.set(xlabel='Population of City in 10,000s', ylabel='Profit in $10,000s', title='Scatter plot of training data');\n",
        "\n",
        "import statsmodels.api as sm\n",
        "from statsmodels.formula.api import ols\n",
        "from statsmodels.stats.anova import anova_lm\n",
        "\n",
        "\n",
        "# Ordinary Least Squares (OLS) model\n",
        "model = ols('Population ~ Profit', data=df).fit()\n",
        "anova_table = sm.stats.anova_lm(model, typ=2)\n",
        "anova_table\n",
        "# Print the summary\n",
        "print(model.summary())\n",
        "\n",
        "# Peform analysis of variance on fitted linear model\n",
        "anova_results = anova_lm(model)\n",
        "\n",
        "print('\\nANOVA results')\n",
        "print(anova_results)"
      ],
      "metadata": {
        "id": "Q7Q6RasKVBfS"
      },
      "execution_count": null,
      "outputs": []
    },
    {
      "cell_type": "markdown",
      "source": [
        "# Gradient Descent\n",
        "The hypothesis of linear regression is:\n",
        "\n",
        "The objective of linear regression is to minimize the cost function (Root Mean Square Error RMSE):\n",
        "\n",
        "![image.png](data:image/png;base64,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)\n",
        "\n",
        "To minimize the cost of  we will use the batch gradient descent algorithm. \n",
        "\n",
        "![image.png](data:image/png;base64,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)\n",
        "\n",
        "In batch gradient descent, each iteration performs the update\n",
        "\n",
        " ![image.png](data:image/png;base64,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)\n",
        " \n",
        "(simultaneously update \n",
        " for all ). With each step of gradient descent, your parameters \n",
        " come closer to the optimal values that will achieve the lowest cost ."
      ],
      "metadata": {
        "id": "1lUwjM3XZzl7"
      }
    },
    {
      "cell_type": "code",
      "source": [
        "# Calcuate J function for sample parameters\n",
        "\n",
        "m = df.shape[0]\n",
        "X = np.hstack((np.ones((m,1)), df.Population.values.reshape(-1,1)))\n",
        "y = np.array(df.Profit.values).reshape(-1,1)\n",
        "theta = np.zeros(shape=(X.shape[1],1))\n",
        "\n",
        "iterations = 1500\n",
        "alpha = 0.01\n",
        "\n",
        "def compute_cost_one_variable(X, y, theta):\n",
        "    m = y.shape[0]\n",
        "    h = X.dot(theta)\n",
        "    J = (1/(2*m)) * (np.sum((h - y)**2))\n",
        "    return J\n",
        "\n",
        "J = compute_cost_one_variable(X, y, theta)\n",
        "print('With theta = [0 ; 0]\\nCost computed =', J)\n",
        "print('Expected cost value (approx) 32.07')\n",
        "\n",
        "J = compute_cost_one_variable(X, y, [[-1],[2]])\n",
        "print('With theta = [-1 ; 2]\\nCost computed =', J)\n",
        "print('Expected cost value (approx) 54.24')"
      ],
      "metadata": {
        "id": "Rx0HeA6taz-a"
      },
      "execution_count": null,
      "outputs": []
    },
    {
      "cell_type": "code",
      "source": [
        "# Calculate parameters using Gradient Descent\n",
        "\n",
        "def gradient_descent(X, y, theta, alpha, num_iters):\n",
        "    m = y.shape[0]\n",
        "    J_history = np.zeros(shape=(num_iters, 1))\n",
        "\n",
        "    for i in range(0, num_iters):\n",
        "        h = X.dot(theta)\n",
        "        diff_hy = h - y\n",
        "\n",
        "        delta = (1/m) * (diff_hy.T.dot(X))\n",
        "        theta = theta - (alpha * delta.T)\n",
        "        J_history[i] = compute_cost_one_variable(X, y, theta)\n",
        "\n",
        "    return theta, J_history\n",
        "\n",
        "theta, _ = gradient_descent(X, y, theta, alpha, iterations)\n",
        "print('Theta found by gradient descent:\\n', theta)\n",
        "print('Expected theta values (approx)\\n -3.6303\\n  1.1664')"
      ],
      "metadata": {
        "id": "8qBu3ERcbXUF"
      },
      "execution_count": null,
      "outputs": []
    },
    {
      "cell_type": "code",
      "source": [
        "# Plot the model\n",
        "\n",
        "ax = sns.scatterplot(x='Population', y='Profit', data=df)\n",
        "plt.plot(X[:,1], X.dot(theta), color='r')\n",
        "ax.set(xlabel='Population of City in 10,000s', ylabel='Profit in $10,000s', title='Training data with linear regression fit');"
      ],
      "metadata": {
        "id": "Pu7OUf4-bvzq"
      },
      "execution_count": null,
      "outputs": []
    },
    {
      "cell_type": "code",
      "source": [
        "# Predict profit using the model\n",
        "\n",
        "y_pred = np.array([1, 3.5]).dot(theta)\n",
        "f'For population = 35,000, we predict a profit of {y_pred[0]*10000}'"
      ],
      "metadata": {
        "id": "aUH1kLCwcmSr"
      },
      "execution_count": null,
      "outputs": []
    },
    {
      "cell_type": "code",
      "source": [
        "# Drawing contour for parameters vs J function\n",
        "\n",
        "theta0_vals = np.linspace(-10, 10, 100)\n",
        "theta1_vals = np.linspace(-1, 4, 100)\n",
        "J_vals = np.zeros(shape=(len(theta0_vals), len(theta1_vals)))\n",
        "for i in range(0, len(theta0_vals)):\n",
        "    for j in range(0, len(theta1_vals)):\n",
        "        J_vals[i,j] = compute_cost_one_variable(X, y, [[theta0_vals[i]], [theta1_vals[j]]])\n",
        "ax = plt.contour(theta0_vals, theta1_vals, np.transpose(J_vals), levels=np.logspace(-2,3,20))\n",
        "plt.plot(theta[0,0], theta[1,0], marker='x', color='r');\n",
        "plt.xlabel(r'$\\theta_0$');\n",
        "plt.ylabel(r'$\\theta_1$');\n",
        "plt.title('Contour, showing minimum');"
      ],
      "metadata": {
        "id": "y6BJmh1Tcq2a"
      },
      "execution_count": null,
      "outputs": []
    },
    {
      "cell_type": "code",
      "source": [
        "# Use Sklearn to estimate parameters\n",
        "\n",
        "from sklearn.linear_model import LinearRegression\n",
        "lin_reg = LinearRegression()\n",
        "lin_reg.fit(df.Population.values.reshape(-1,1), \n",
        "            df.Profit.values.reshape(-1,1))\n",
        "lin_reg.intercept_, lin_reg.coef_\n"
      ],
      "metadata": {
        "id": "OJv_5cflc7nq"
      },
      "execution_count": null,
      "outputs": []
    },
    {
      "cell_type": "markdown",
      "source": [
        "# Overfir vs Underfit (Bias vs Variance)"
      ],
      "metadata": {
        "id": "KzujXI5-kwvA"
      }
    },
    {
      "cell_type": "code",
      "source": [
        "\n",
        "import numpy as np\n",
        "import matplotlib.pyplot as plt\n",
        "from sklearn.pipeline import Pipeline\n",
        "from sklearn.preprocessing import PolynomialFeatures\n",
        "from sklearn.linear_model import LinearRegression\n",
        "from sklearn.model_selection import cross_val_score\n",
        "\n",
        "\n",
        "def true_fun(X):\n",
        "    return np.cos(1.5 * np.pi * X)\n",
        "\n",
        "\n",
        "np.random.seed(0)\n",
        "\n",
        "n_samples = 30\n",
        "degrees = [1, 3, 15]\n",
        "\n",
        "X = np.sort(np.random.rand(n_samples))\n",
        "y = true_fun(X) + np.random.randn(n_samples) * 0.1\n",
        "\n",
        "plt.figure(figsize=(14, 5))\n",
        "for i in range(len(degrees)):\n",
        "    ax = plt.subplot(1, len(degrees), i + 1)\n",
        "    plt.setp(ax, xticks=(), yticks=())\n",
        "\n",
        "    polynomial_features = PolynomialFeatures(degree=degrees[i], include_bias=False)\n",
        "    linear_regression = LinearRegression()\n",
        "    pipeline = Pipeline(\n",
        "        [\n",
        "            (\"polynomial_features\", polynomial_features),\n",
        "            (\"linear_regression\", linear_regression),\n",
        "        ]\n",
        "    )\n",
        "    pipeline.fit(X[:, np.newaxis], y)\n",
        "\n",
        "    # Evaluate the models using crossvalidation\n",
        "    scores = cross_val_score(\n",
        "        pipeline, X[:, np.newaxis], y, scoring=\"neg_mean_squared_error\", cv=10\n",
        "    )\n",
        "\n",
        "    X_test = np.linspace(0, 1, 100)\n",
        "    plt.plot(X_test, pipeline.predict(X_test[:, np.newaxis]), label=\"Model\")\n",
        "    plt.plot(X_test, true_fun(X_test), label=\"True function\")\n",
        "    plt.scatter(X, y, edgecolor=\"b\", s=20, label=\"Samples\")\n",
        "    plt.xlabel(\"x\")\n",
        "    plt.ylabel(\"y\")\n",
        "    plt.xlim((0, 1))\n",
        "    plt.ylim((-2, 2))\n",
        "    plt.legend(loc=\"best\")\n",
        "    plt.title(\n",
        "        \"Degree {}\\nMSE = {:.2e}(+/- {:.2e})\".format(\n",
        "            degrees[i], -scores.mean(), scores.std()\n",
        "        )\n",
        "    )\n",
        "plt.show()\n",
        "\n"
      ],
      "metadata": {
        "id": "jIlGqKXlVrO4"
      },
      "execution_count": null,
      "outputs": []
    },
    {
      "cell_type": "markdown",
      "source": [
        "# Regularization"
      ],
      "metadata": {
        "id": "pj2qYSjpk3tF"
      }
    },
    {
      "cell_type": "code",
      "source": [
        "import matplotlib.pyplot as plt\n",
        "import numpy as np\n",
        "\n",
        "from sklearn.datasets import make_regression\n",
        "from sklearn.linear_model import Ridge\n",
        "from sklearn.metrics import mean_squared_error\n",
        "\n",
        "clf = Ridge()\n",
        "\n",
        "X, y, w = make_regression(\n",
        "    n_samples=10, n_features=10, coef=True, random_state=1, bias=3.5\n",
        ")\n",
        "\n",
        "coefs = []\n",
        "errors = []\n",
        "\n",
        "alphas = np.logspace(-6, 6, 200)\n",
        "\n",
        "# Train the model with different regularisation strengths\n",
        "for a in alphas:\n",
        "    clf.set_params(alpha=a)\n",
        "    clf.fit(X, y)\n",
        "    coefs.append(clf.coef_)\n",
        "    errors.append(mean_squared_error(clf.coef_, w))\n",
        "\n",
        "# Display results\n",
        "plt.figure(figsize=(20, 6))\n",
        "\n",
        "plt.subplot(121)\n",
        "ax = plt.gca()\n",
        "ax.plot(alphas, coefs)\n",
        "ax.set_xscale(\"log\")\n",
        "plt.xlabel(\"alpha\")\n",
        "plt.ylabel(\"weights\")\n",
        "plt.title(\"Ridge coefficients as a function of the regularization\")\n",
        "plt.axis(\"tight\")\n",
        "\n",
        "plt.subplot(122)\n",
        "ax = plt.gca()\n",
        "ax.plot(alphas, errors)\n",
        "ax.set_xscale(\"log\")\n",
        "plt.xlabel(\"alpha\")\n",
        "plt.ylabel(\"error\")\n",
        "plt.title(\"Coefficient error as a function of the regularization\")\n",
        "plt.axis(\"tight\")\n",
        "\n",
        "plt.show()"
      ],
      "metadata": {
        "id": "EVlg4svAkbMd"
      },
      "execution_count": null,
      "outputs": []
    },
    {
      "cell_type": "markdown",
      "source": [
        "Extra:\n",
        "https://www.geeksforgeeks.org/linear-regression-python-implementation/\n",
        "https://scikit-learn.org/stable/auto_examples/model_selection/plot_underfitting_overfitting.html\n",
        "https://scikit-learn.org/stable/auto_examples/linear_model/plot_ridge_path.html?highlight=regularization\n"
      ],
      "metadata": {
        "id": "LTHYLCbtK1_1"
      }
    }
  ]
}