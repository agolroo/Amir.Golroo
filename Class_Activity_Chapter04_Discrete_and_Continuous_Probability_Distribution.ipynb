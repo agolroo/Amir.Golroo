{
  "cells": [
    {
      "cell_type": "code",
      "execution_count": 2,
      "id": "64d6393f",
      "metadata": {
        "id": "64d6393f"
      },
      "outputs": [],
      "source": [
        "from numpy.random.mtrand import randint\n",
        "import sys\n",
        "import pandas as pd\n",
        "import numpy as np\n",
        "import scipy as sp\n",
        "import IPython\n",
        "import sklearn\n",
        "from numpy.random import randn\n",
        "from numpy.random import seed\n",
        "from matplotlib import pyplot\n",
        "from itertools import product as prod\n",
        "from sklearn.cluster import KMeans\n",
        "from sklearn.neighbors import KNeighborsClassifier as clf\n",
        "from sklearn.datasets import load_iris\n",
        "from sklearn.model_selection import train_test_split\n",
        "from sklearn import svm\n",
        "from sklearn.linear_model import LogisticRegression\n",
        "from sklearn.metrics import classification_report\n",
        "from sklearn.metrics import confusion_matrix\n",
        "import matplotlib.pyplot as plt\n",
        "import seaborn as sns; sns.set(font_scale=1.2)\n",
        "from numpy import random\n",
        "%matplotlib inline"
      ]
    },
    {
      "cell_type": "code",
      "source": [
        "# seed the random number generator\n",
        "seed(1)\n",
        "s = pd.Series([np.random.randint(0,2) for i in range(1,10)])\n",
        "s.value_counts().plot(kind='bar');"
      ],
      "metadata": {
        "id": "xDdJWwEgXpJ4"
      },
      "id": "xDdJWwEgXpJ4",
      "execution_count": null,
      "outputs": []
    },
    {
      "cell_type": "code",
      "execution_count": 20,
      "id": "e753743f",
      "metadata": {
        "colab": {
          "base_uri": "https://localhost:8080/"
        },
        "id": "e753743f",
        "outputId": "8b3d2704-afdd-4359-a161-49aa28ed84db"
      },
      "outputs": [
        {
          "output_type": "stream",
          "name": "stdout",
          "text": [
            "Relative Frequency of Heads is 0.504\n"
          ]
        }
      ],
      "source": [
        "np.random.seed(10)\n",
        "def frequency_heads(coin_flip_sequence):\n",
        "    total_heads = len([head for head in coin_flip_sequence if head == 1])\n",
        "    return total_heads / len(coin_flip_sequence)\n",
        "    coin_flips = [np.random.randint(0, 2) for _ in range(10)]\n",
        "freq_heads = frequency_heads(coin_flips)\n",
        "print(f\"Relative Frequency of Heads is {freq_heads}\")"
      ]
    },
    {
      "cell_type": "code",
      "source": [
        "np.random.seed(0)\n",
        "coin_flips = []\n",
        "frequencies = []\n",
        "for _ in range(1000):\n",
        "    coin_flips.append(np.random.randint(0, 2))\n",
        "    frequencies.append(frequency_heads(coin_flips))\n",
        "plt.plot(list(range(1000)), frequencies)\n",
        "plt.axhline(0.5, color='k')\n",
        "plt.xlabel('Number of Coin Flips')\n",
        "plt.ylabel('Head-Relative Frequency')\n",
        "plt.show()"
      ],
      "metadata": {
        "id": "fMu2qhEdXz0U"
      },
      "id": "fMu2qhEdXz0U",
      "execution_count": null,
      "outputs": []
    },
    {
      "cell_type": "code",
      "source": [
        "# # creating a set with curely braces\n",
        "# set1={4,7} #{1:'value'}\n",
        "# print(set1)\n",
        "# print(type(set1))\n",
        "\n",
        "#converitng a list into a set\n",
        "# my_list=[1,2,3,4]\n",
        "# my_set_form_list=set(my_list)\n",
        "# print(my_set_form_list)\n",
        "\n",
        "# my_set=set([3,5,7])\n",
        "# print(\"My set\", my_set)\n",
        "# print(\"3 is in My set\", 3 in my_set)\n",
        "# print(\"1 is in My set\", 1 in my_set)\n",
        "# print(\"6 is in My set\", 6 not in my_set)\n",
        "\n",
        "\n",
        "# A=set([x for x in range(1,7)])\n",
        "# B=set([x for x in range(1,7)])\n",
        "# p = list(prod(A,B))\n",
        "# print('A :', A)\n",
        "# print('B :',B)\n",
        "# print('product:', p)"
      ],
      "metadata": {
        "id": "KpbnFkU9X9_4"
      },
      "id": "KpbnFkU9X9_4",
      "execution_count": null,
      "outputs": []
    },
    {
      "cell_type": "code",
      "source": [
        "# Throwing 3 dice\n",
        "n_dice=3\n",
        "dice_faces={1,2,3,4,5,6}\n",
        "event_space=set(prod(dice_faces,repeat=n_dice))\n",
        "print(event_space)\n",
        "len(event_space)"
      ],
      "metadata": {
        "id": "f4LS79PdYKvi"
      },
      "id": "f4LS79PdYKvi",
      "execution_count": null,
      "outputs": []
    },
    {
      "cell_type": "code",
      "source": [
        "for outcome in event_space:\n",
        "    print(outcome,end=',')\n",
        "print()\n",
        "print(len(event_space))"
      ],
      "metadata": {
        "id": "9xgbXbW2Yb1c"
      },
      "id": "9xgbXbW2Yb1c",
      "execution_count": null,
      "outputs": []
    },
    {
      "cell_type": "code",
      "source": [
        "# sum is multiple of 3\n",
        "favorable_outcome = []\n",
        "for outcome in event_space:\n",
        "    x,y,z=outcome\n",
        "    if(x+y+z)%3==0:\n",
        "        favorable_outcome.append(outcome)\n",
        "favorable_outcome1= set(favorable_outcome)\n",
        "for f_outcome in favorable_outcome:\n",
        "    print(f_outcome,end=',')\n",
        "print()\n",
        "print(len(favorable_outcome1))\n",
        "prob1=len(favorable_outcome1)/len(event_space)\n",
        "print('Event 1:',prob1)"
      ],
      "metadata": {
        "colab": {
          "base_uri": "https://localhost:8080/"
        },
        "id": "i8WmqMgAYeyN",
        "outputId": "5c787681-fc46-446f-99ac-1115f4a2f10b"
      },
      "id": "i8WmqMgAYeyN",
      "execution_count": 28,
      "outputs": [
        {
          "output_type": "stream",
          "name": "stdout",
          "text": [
            "(1, 4, 4),(5, 5, 5),(3, 1, 2),(6, 6, 3),(2, 6, 1),(4, 1, 1),(6, 5, 1),(3, 2, 4),(1, 2, 6),(2, 5, 5),(4, 6, 5),(1, 3, 5),(3, 4, 5),(2, 3, 4),(6, 3, 3),(5, 3, 4),(1, 5, 3),(4, 3, 2),(5, 6, 4),(3, 3, 3),(6, 2, 4),(6, 1, 2),(3, 6, 6),(5, 4, 3),(6, 4, 2),(5, 1, 3),(2, 4, 6),(4, 5, 6),(2, 1, 3),(1, 6, 2),(4, 2, 3),(1, 1, 4),(3, 5, 4),(2, 2, 5),(4, 4, 1),(5, 2, 2),(5, 5, 2),(3, 1, 5),(1, 4, 1),(4, 1, 4),(2, 6, 4),(6, 5, 4),(2, 5, 2),(3, 2, 1),(1, 2, 3),(5, 3, 1),(4, 6, 2),(6, 6, 6),(1, 5, 6),(5, 6, 1),(1, 3, 2),(4, 3, 5),(6, 4, 5),(6, 3, 6),(3, 4, 2),(2, 3, 1),(2, 4, 3),(5, 1, 6),(2, 1, 6),(6, 2, 1),(1, 6, 5),(3, 3, 6),(4, 5, 3),(5, 4, 6),(3, 6, 3),(1, 1, 1),(6, 1, 5),(3, 5, 1),(2, 2, 2),(4, 2, 6),(4, 4, 4),(5, 2, 5),\n",
            "72\n",
            "1: 0.3333333333333333\n"
          ]
        }
      ]
    },
    {
      "cell_type": "code",
      "source": [
        "# #sum is multiple of 5 but not 3\n",
        "n_dice=3\n",
        "dice_faces={1,2,3,4,5,6}\n",
        "event_space=set(prod(dice_faces,repeat=n_dice))\n",
        "favorable_outcome = []\n",
        "for outcome in event_space:\n",
        "    d1,d2,d3=outcome\n",
        "    if(d1+d2+d3)%5==0 and (d1+d2+d3)%3==0:\n",
        "        favorable_outcome.append(outcome)\n",
        "print(favorable_outcome2)\n",
        "favorable_outcome2= set(favorable_outcome)\n",
        "len(favorable_outcome2)\n",
        "prob2=len(favorable_outcome2)/len(event_space)\n",
        "print(\"Event 2:\",prob2)"
      ],
      "metadata": {
        "colab": {
          "base_uri": "https://localhost:8080/"
        },
        "id": "AMcbwCQpYhrZ",
        "outputId": "fea4a7a4-b5d0-4bf2-c359-af50af9c5aec"
      },
      "id": "AMcbwCQpYhrZ",
      "execution_count": 30,
      "outputs": [
        {
          "output_type": "stream",
          "name": "stdout",
          "text": [
            "{(6, 6, 3), (6, 4, 5), (4, 6, 5), (5, 6, 4), (5, 5, 5), (5, 4, 6), (3, 6, 6), (6, 3, 6), (6, 5, 4), (4, 5, 6)}\n",
            "2: 0.046296296296296294\n"
          ]
        }
      ]
    },
    {
      "cell_type": "code",
      "source": [
        "Intr = favorable_outcome1.intersection(favorable_outcome2)\n",
        "len(Intr)\n",
        "probi=len(Intr)/len(event_space)\n",
        "print('Intr:',probi)"
      ],
      "metadata": {
        "colab": {
          "base_uri": "https://localhost:8080/"
        },
        "id": "7F0kA12aYk9z",
        "outputId": "9f6e3b56-b43c-40a0-fca4-8770ecbbd347"
      },
      "id": "7F0kA12aYk9z",
      "execution_count": 31,
      "outputs": [
        {
          "output_type": "stream",
          "name": "stdout",
          "text": [
            "Intr: 0.046296296296296294\n"
          ]
        }
      ]
    },
    {
      "cell_type": "code",
      "source": [
        "Uni = favorable_outcome1.union(favorable_outcome2)\n",
        "len(Uni)\n",
        "probu=len(Uni)/len(event_space)\n",
        "print(\"Uni:\",probu)"
      ],
      "metadata": {
        "colab": {
          "base_uri": "https://localhost:8080/"
        },
        "id": "2_u4VrnnYtdD",
        "outputId": "150977bf-0537-4232-8249-84d13640cca3"
      },
      "id": "2_u4VrnnYtdD",
      "execution_count": 32,
      "outputs": [
        {
          "output_type": "stream",
          "name": "stdout",
          "text": [
            "Uni: 0.3333333333333333\n"
          ]
        }
      ]
    },
    {
      "cell_type": "code",
      "source": [
        "Con12=probi/prob2\n",
        "print('Con12:', Con12)\n",
        "Con21=probi/prob1\n",
        "print('Con21:', Con21)"
      ],
      "metadata": {
        "colab": {
          "base_uri": "https://localhost:8080/"
        },
        "id": "NrVssm1wYwSW",
        "outputId": "54a4fc65-9d73-40b4-ca7d-004cbacfc849"
      },
      "id": "NrVssm1wYwSW",
      "execution_count": 33,
      "outputs": [
        {
          "output_type": "stream",
          "name": "stdout",
          "text": [
            "Con12: 1.0\n",
            "Con21: 0.1388888888888889\n"
          ]
        }
      ]
    },
    {
      "cell_type": "code",
      "source": [
        "# Bayesian\n",
        "# –A GPR survey obtains signals that indicate whether the  geological structure is favorable to the presence of water. \n",
        "# USS: Unfavorable signal; water is fairly unlikely.FSS: Favorable signal; water is fairly likely.\n",
        "PW=0.25\n",
        "PD=0.75\n",
        "PUW = 0.4\n",
        "PUD = 0.8\n",
        "PWU=PUW*PW/(PUW*PW+PUD*PD) \n",
        "print('PWU:',PWU, ' PDU:', 1-PWU)\n",
        "PWF=(1-PUW)*PW/((1-PUW)*PW+(1-PUD)*PD) \n",
        "print('PFU:',PWF, ' PFU:', 1-PWF)"
      ],
      "metadata": {
        "colab": {
          "base_uri": "https://localhost:8080/"
        },
        "id": "UnORTK-VYzWl",
        "outputId": "b1013484-ba0c-4522-b04f-f90c58ea488e"
      },
      "id": "UnORTK-VYzWl",
      "execution_count": 35,
      "outputs": [
        {
          "output_type": "stream",
          "name": "stdout",
          "text": [
            "PWU: 0.14285714285714285  PDU: 0.8571428571428572\n",
            "PFU: 0.5000000000000001  PFU: 0.4999999999999999\n"
          ]
        }
      ]
    },
    {
      "cell_type": "code",
      "source": [
        "# Toss a dice 3 times, let X = total # of 6\n",
        "favorable_outcome = []\n",
        "for outcome in event_space:\n",
        "    x,y,z=outcome\n",
        "    if x!=6 and y!=6 and z!=6:\n",
        "        favorable_outcome.append(outcome)\n",
        "favorable_outcome1= set(favorable_outcome)\n",
        "for f_outcome in favorable_outcome:\n",
        "    print(f_outcome,end=',')\n",
        "print()\n",
        "print(len(favorable_outcome1))\n",
        "prob1=len(favorable_outcome1)/len(event_space)\n",
        "print('1:',prob1)"
      ],
      "metadata": {
        "colab": {
          "base_uri": "https://localhost:8080/"
        },
        "id": "Yiscw9qnY2PN",
        "outputId": "b86b9adf-4572-4884-ddaf-0e4ce57cf261"
      },
      "id": "Yiscw9qnY2PN",
      "execution_count": 36,
      "outputs": [
        {
          "output_type": "stream",
          "name": "stdout",
          "text": [
            "(4, 2, 2),(1, 4, 4),(2, 2, 4),(5, 5, 1),(5, 2, 1),(1, 4, 2),(5, 5, 3),(5, 2, 3),(5, 5, 5),(3, 1, 4),(3, 2, 2),(4, 1, 5),(3, 1, 2),(2, 5, 3),(4, 4, 2),(1, 2, 2),(2, 5, 1),(4, 1, 1),(1, 2, 4),(5, 3, 2),(1, 5, 5),(3, 2, 4),(4, 1, 3),(2, 5, 5),(1, 3, 5),(1, 5, 1),(3, 4, 5),(2, 3, 4),(1, 3, 3),(4, 3, 4),(5, 3, 4),(1, 5, 3),(1, 3, 1),(4, 3, 2),(3, 3, 1),(5, 1, 5),(3, 4, 1),(3, 3, 3),(3, 4, 3),(2, 3, 2),(3, 3, 5),(2, 4, 2),(5, 1, 1),(5, 4, 3),(5, 1, 3),(2, 4, 4),(4, 5, 2),(5, 4, 1),(2, 1, 5),(4, 5, 4),(4, 2, 5),(3, 5, 2),(2, 2, 3),(2, 1, 3),(5, 4, 5),(2, 2, 1),(4, 4, 5),(2, 1, 1),(4, 2, 1),(1, 1, 2),(5, 2, 4),(4, 4, 3),(4, 2, 3),(1, 1, 4),(3, 5, 4),(2, 2, 5),(4, 4, 1),(1, 4, 5),(5, 2, 2),(1, 4, 3),(5, 5, 2),(3, 1, 5),(1, 4, 1),(4, 1, 4),(5, 5, 4),(3, 1, 3),(3, 2, 3),(2, 5, 2),(1, 2, 1),(3, 1, 1),(3, 2, 1),(1, 2, 3),(5, 3, 3),(4, 1, 2),(1, 2, 5),(5, 3, 1),(1, 5, 4),(3, 2, 5),(2, 5, 4),(3, 4, 4),(1, 3, 4),(5, 3, 5),(2, 3, 5),(1, 3, 2),(4, 3, 5),(1, 5, 2),(4, 3, 3),(5, 1, 4),(2, 4, 1),(3, 4, 2),(2, 3, 1),(4, 3, 1),(3, 3, 2),(2, 4, 3),(2, 3, 3),(5, 4, 2),(3, 3, 4),(2, 4, 5),(4, 5, 1),(5, 1, 2),(2, 1, 4),(4, 5, 3),(3, 5, 3),(2, 1, 2),(4, 5, 5),(4, 2, 4),(1, 1, 1),(5, 4, 4),(3, 5, 1),(2, 2, 2),(1, 1, 3),(4, 4, 4),(1, 1, 5),(5, 2, 5),(3, 5, 5),\n",
            "125\n",
            "1: 0.5787037037037037\n"
          ]
        }
      ]
    },
    {
      "cell_type": "code",
      "source": [
        "PMF = [.5, .3, .1, .1]\n",
        "N6 = [0,1,2,3]\n",
        "plt.bar(N6, PMF)\n",
        "df = pd.DataFrame({'PMF' : [.5, .3, .1, .1],'N6' : [0,1,2,3]})\n",
        "plt.bar(df['N6'], df['PMF'], width = 0.4)\n",
        "plt.bar(df['N6'] , df['PMF'].cumsum())"
      ],
      "metadata": {
        "colab": {
          "base_uri": "https://localhost:8080/",
          "height": 288
        },
        "id": "COQVYg_DY6iQ",
        "outputId": "8e2712e8-648f-4b5e-b123-a940ffc02560"
      },
      "id": "COQVYg_DY6iQ",
      "execution_count": 37,
      "outputs": [
        {
          "output_type": "execute_result",
          "data": {
            "text/plain": [
              "<BarContainer object of 4 artists>"
            ]
          },
          "metadata": {},
          "execution_count": 37
        },
        {
          "output_type": "display_data",
          "data": {
            "text/plain": [
              "<Figure size 432x288 with 1 Axes>"
            ],
            "image/png": "[encoded data removed]"
          },
          "metadata": {
            "needs_background": "light"
          }
        }
      ]
    },
    {
      "cell_type": "code",
      "source": [
        "Mean = np.dot(PMF,N6)\n",
        "print(Mean)\n",
        "Dev = [(.5-Mean)**2, (.3-Mean)**2, (.1-Mean)**2, (.1-Mean)**2]\n",
        "Var = np.dot(Dev,N6)\n",
        "print(Var)"
      ],
      "metadata": {
        "colab": {
          "base_uri": "https://localhost:8080/"
        },
        "id": "3x-vb5WRZVY0",
        "outputId": "5bf9bceb-1dbf-4177-85ae-ffd7a4bddb5d"
      },
      "id": "3x-vb5WRZVY0",
      "execution_count": 38,
      "outputs": [
        {
          "output_type": "stream",
          "name": "stdout",
          "text": [
            "0.8\n",
            "2.7\n"
          ]
        }
      ]
    },
    {
      "cell_type": "code",
      "source": [
        "# DISCRETE PROBABILITY DISTRIBUTION\n",
        "NUM_ROLLS = 100\n",
        "values = [1, 2, 3, 4, 5, 6]\n",
        "# probs = [0.1, 0.1, 0.1, 0.1, 0.1, 0.5]\n",
        "sample = np.random.choice(values, NUM_ROLLS)\n",
        "# sample = np.random.choice(values, NUM_ROLLS, p=probs)\n",
        "# Numpy arrays containing counts for each side\n",
        "side, count = np.unique(sample, return_counts=True)\n",
        "probs = count / len(sample)\n",
        "# Plot the results\n",
        "sns.barplot(side, probs)\n",
        "plt.title(\n",
        "    f\"Discrete Probability Distribution for Fair 6-Sided Die ({NUM_ROLLS} rolls)\")\n",
        "plt.ylabel(\"Probability\")\n",
        "plt.xlabel(\"Outcome\")\n",
        "plt.show()"
      ],
      "metadata": {
        "colab": {
          "base_uri": "https://localhost:8080/",
          "height": 361
        },
        "id": "UX-DPfrOZd0H",
        "outputId": "342ece77-c004-42f3-9677-69293fa848b4"
      },
      "id": "UX-DPfrOZd0H",
      "execution_count": 40,
      "outputs": [
        {
          "output_type": "stream",
          "name": "stderr",
          "text": [
            "/usr/local/lib/python3.7/dist-packages/seaborn/_decorators.py:43: FutureWarning: Pass the following variables as keyword args: x, y. From version 0.12, the only valid positional argument will be `data`, and passing other arguments without an explicit keyword will result in an error or misinterpretation.\n",
            "  FutureWarning\n"
          ]
        },
        {
          "output_type": "display_data",
          "data": {
            "text/plain": [
              "<Figure size 432x288 with 1 Axes>"
            ],
            "image/png": "[encoded data removed]"
          },
          "metadata": {
            "needs_background": "light"
          }
        }
      ]
    },
    {
      "cell_type": "code",
      "source": [
        "from scipy.stats import bernoulli\n",
        "data_bern = bernoulli.rvs(size=100,p=0.6) #generates an array containing specified number of random values drawn from the given geometric distribution.\n",
        "ax= sns.distplot(data_bern,\n",
        "                 kde=False,\n",
        "                 color=\"skyblue\",\n",
        "                 hist_kws={\"linewidth\": 15,'alpha':1})\n",
        "ax.set(xlabel='Bernoulli Distribution', ylabel='Frequency')"
      ],
      "metadata": {
        "colab": {
          "base_uri": "https://localhost:8080/",
          "height": 361
        },
        "id": "Z-8p2VVuZhdP",
        "outputId": "094231a7-178f-471e-9b46-fb6247e3c8b1"
      },
      "id": "Z-8p2VVuZhdP",
      "execution_count": 42,
      "outputs": [
        {
          "output_type": "stream",
          "name": "stderr",
          "text": [
            "/usr/local/lib/python3.7/dist-packages/seaborn/distributions.py:2619: FutureWarning: `distplot` is a deprecated function and will be removed in a future version. Please adapt your code to use either `displot` (a figure-level function with similar flexibility) or `histplot` (an axes-level function for histograms).\n",
            "  warnings.warn(msg, FutureWarning)\n"
          ]
        },
        {
          "output_type": "execute_result",
          "data": {
            "text/plain": [
              "[Text(0, 0.5, 'Frequency'), Text(0.5, 0, 'Bernoulli Distribution')]"
            ]
          },
          "metadata": {},
          "execution_count": 42
        },
        {
          "output_type": "display_data",
          "data": {
            "text/plain": [
              "<Figure size 432x288 with 1 Axes>"
            ],
            "image/png": "[encoded data removed]"
          },
          "metadata": {
            "needs_background": "light"
          }
        }
      ]
    },
    {
      "cell_type": "code",
      "source": [
        "from scipy.stats import binom\n",
        "data_binom = binom.rvs(n=10,size=100,p=0.8)\n",
        "ax= sns.distplot(data_binom,\n",
        "                 kde=False,\n",
        "                 color=\"skyblue\",\n",
        "                 hist_kws={\"linewidth\": 10,'alpha':1})\n",
        "ax.set(xlabel='Binomial Distribution', ylabel='Frequency')\n",
        "\n",
        "from scipy.stats import binom\n",
        "# # setting the values of n and p\n",
        "# n = 6\n",
        "# p = 0.6\n",
        "# # defining the list of r values\n",
        "# r_values = list(range(n + 1))\n",
        "# # obtaining the mean and variance \n",
        "# mean, var = binom.stats(n, p)\n",
        "# # list of pmf values\n",
        "# dist = [binom.pmf(r, n, p) for r in r_values ]\n",
        "# # printing the table\n",
        "# print(\"r\\tp(r)\")\n",
        "# for i in range(n + 1):\n",
        "#     print(str(r_values[i]) + \"\\t\" + str(dist[i]))\n",
        "# # printing mean and variance\n",
        "# print(\"mean = \"+str(mean))\n",
        "# print(\"variance = \"+str(var))\n",
        "\n",
        "from scipy.stats import binom\n",
        "# import matplotlib.pyplot as plt\n",
        "# # What is the probability of different number of rainny day over the next week if the chance of raining is 0.6.\n",
        "# # setting the values\n",
        "# # of n and p\n",
        "# n = 7\n",
        "# p = 0.6\n",
        "# # defining list of r values\n",
        "# r_values = list(range(n + 1))\n",
        "# # list of pmf values\n",
        "# dist = [binom.pmf(r, n, p) for r in r_values ]\n",
        "# distc = [binom.cdf(r, n, p) for r in r_values ]\n",
        "# stat = [binom.stats(n,p, loc=0, moments='mvsk')] # mean, variance, Skewness, kurtosis\n",
        "# print(stat)\n",
        "# # plotting the graph\n",
        "# plt.bar(r_values, dist)\n",
        "# plt.bar(r_values, distc, alpha=.5)\n",
        "# plt.show()\n",
        "\n",
        "# sns.distplot(random.normal(loc=50, scale=5, size=1000), hist=False, label='normal')\n",
        "# sns.distplot(random.binomial(n=100, p=0.5, size=1000), hist=False, label='binomial')\n",
        "# plt.show()"
      ],
      "metadata": {
        "colab": {
          "base_uri": "https://localhost:8080/",
          "height": 344
        },
        "id": "qhv1jhYmZmMz",
        "outputId": "677f29c3-a7a8-455e-d94d-7b137801639e"
      },
      "id": "qhv1jhYmZmMz",
      "execution_count": 65,
      "outputs": [
        {
          "output_type": "stream",
          "name": "stderr",
          "text": [
            "/usr/local/lib/python3.7/dist-packages/seaborn/distributions.py:2619: FutureWarning: `distplot` is a deprecated function and will be removed in a future version. Please adapt your code to use either `displot` (a figure-level function with similar flexibility) or `histplot` (an axes-level function for histograms).\n",
            "  warnings.warn(msg, FutureWarning)\n"
          ]
        },
        {
          "output_type": "display_data",
          "data": {
            "text/plain": [
              "<Figure size 432x288 with 1 Axes>"
            ],
            "image/png": "[encoded data removed]"
          },
          "metadata": {
            "needs_background": "light"
          }
        }
      ]
    },
    {
      "cell_type": "code",
      "source": [
        "from scipy.stats import geom\n",
        "x= np.arange(0,25)\n",
        "p=0.5\n",
        "dist=geom(p)\n",
        "ax=sns.barplot(x=x,y=dist.pmf(x))\n",
        "# ax=sns.barplot(x=x,y=dist.cdf(x))\n",
        "\n",
        "# #Let’s calculate the probability of X = 1, 2, 3, 4, 5 number of accidents happen in each year. Given the probability of an accident (success) is 0.1\n",
        "# #X = Discrete random variable representing number of accidents\n",
        "# #p = Probability of the perfect accident\n",
        "# X = [1, 2, 3, 4, 5, 6, 7, 8, 9, 10]\n",
        "# p = 0.1\n",
        "# # Calculate geometric probability distribution\n",
        "# geom_pd = geom.pmf(X, p)\n",
        "# # Plot the probability distribution\n",
        "# fig, ax = plt.subplots(1, 1, figsize=(8, 6))\n",
        "# ax.plot(X, geom_pd, 'bo', ms=8, label='geom pmf')\n",
        "# plt.ylabel(\"Probability\", fontsize=\"18\")\n",
        "# plt.xlabel(\"X - No. of accidents\", fontsize=\"18\")\n",
        "# plt.title(\"Geometric Distribution - No. of Throws Vs Probability\", fontsize=\"18\")\n",
        "# ax.vlines(X, 0, geom_pd, colors='b', lw=5, alpha=0.5)\n",
        "# fig, ax = plt.subplots(1, 1)\n",
        "# p = 0.05\n",
        "# mean, var, skew, kurt = geom.stats(p, moments='mvsk')\n",
        "# x = np.arange(geom.ppf(0.01, p),\n",
        "#               geom.ppf(0.99, p))\n",
        "# ax.plot(x, geom.pmf(x, p), 'bo', ms=8, label='geom pmf')\n",
        "# ax.vlines(x, 0, geom.pmf(x, p), colors='b', lw=5, alpha=0.5)\n",
        "\n",
        "# data_geom = geom.rvs(p=.03,size=1000, random_state=13)\n",
        "# ax= sns.distplot(data_geom,\n",
        "#                  kde=False,\n",
        "#                  color=\"skyblue\",\n",
        "#                  hist_kws={\"linewidth\": 5,'alpha':1})\n",
        "# ax.set(xlabel='Geometrical Distribution', ylabel='Frequency')\n",
        "\n",
        "# x = np.arange(0, 1, 0.001) \n",
        "# y = geom.ppf(x, 0.5) #function takes the probability value and returns cumulative value corresponding to probability value of the distribution\n",
        "# plt.plot(x, y) \n",
        "# plt.show()"
      ],
      "metadata": {
        "colab": {
          "base_uri": "https://localhost:8080/",
          "height": 271
        },
        "id": "E2WFK_dAZrNX",
        "outputId": "41417906-814f-45d5-f96c-c2554f531fca"
      },
      "id": "E2WFK_dAZrNX",
      "execution_count": 64,
      "outputs": [
        {
          "output_type": "display_data",
          "data": {
            "text/plain": [
              "<Figure size 432x288 with 1 Axes>"
            ],
            "image/png": "[encoded data removed]"
          },
          "metadata": {
            "needs_background": "light"
          }
        }
      ]
    },
    {
      "cell_type": "code",
      "source": [
        "from scipy.stats import poisson\n",
        "# sns.distplot(random.poisson(lam=2, size=1000), kde=False)\n",
        "\n",
        "# sns.distplot(random.normal(loc=50, scale=7, size=1000), hist=False, label='normal')\n",
        "# sns.distplot(random.poisson(lam=50, size=1000), hist=False, label='poisson')\n",
        "# plt.show()\n",
        "\n",
        "# data_poisson = poisson.rvs(mu=3,size=1000)\n",
        "# ax= sns.distplot(data_poisson,\n",
        "#                  kde=False,\n",
        "#                  color=\"skyblue\",\n",
        "#                  hist_kws={\"linewidth\": 5,'alpha':1})\n",
        "# ax.set(xlabel='Poisson Distribution', ylabel='Frequency')\n",
        "\n",
        "# Poisson distribution for Space interval: \n",
        "# Let’s say that you are out on a crack detection. The rate of occurrences of a crack in a range of 1km is 2. What is the probability that 0, 1, 2, 3, 4, or 5 cracks happen in 1km. \n",
        "# X = [0, 1, 2, 3, 4, 5]\n",
        "# lmbda = 2\n",
        "# # Probability values\n",
        "# poisson_pd = poisson.pmf(X, lmbda)\n",
        "# # Plot the probability distribution\n",
        "# fig, ax = plt.subplots(1, 1, figsize=(8, 6))\n",
        "# ax.plot(X, poisson_pd, 'bo', ms=8, label='poisson pmf')\n",
        "# ax.vlines(X, 0, poisson_pd, colors='b', lw=5, alpha=0.5)\n",
        "\n",
        "# Poisson distribution for Time interval: \n",
        "# Let’s say that the number of buses that come on a bus stop in span of 30 minutes is 1. \n",
        "# Poisson distribution can be used to model the probability of different number of buses, X, coming to the bus stop within the next 30 minutes where X can take value of 0, 1, 2, 3, 4.\n",
        "X = [0, 1, 2, 3, 4]\n",
        "lmbda = 1\n",
        "# Probability values\n",
        "poisson_pd = poisson.pmf(X, lmbda)\n",
        "# Plot the probability distribution\n",
        "fig, ax = plt.subplots(1, 1, figsize=(8, 6))\n",
        "ax.plot(X, poisson_pd, 'bo', ms=8, label='poisson pmf')\n",
        "plt.ylabel(\"Probability\", fontsize=\"18\")\n",
        "plt.xlabel(\"X - No. of Buses\", fontsize=\"18\")\n",
        "plt.title(\"Poisson Distribution - No. of Buses Vs Probability\", fontsize=\"18\")\n",
        "ax.vlines(X, 0, poisson_pd, colors='b', lw=5, alpha=0.5)"
      ],
      "metadata": {
        "colab": {
          "base_uri": "https://localhost:8080/",
          "height": 439
        },
        "id": "v66ElsoSZ0Er",
        "outputId": "ff655041-8925-46a3-9514-cc257678d8be"
      },
      "id": "v66ElsoSZ0Er",
      "execution_count": 62,
      "outputs": [
        {
          "output_type": "execute_result",
          "data": {
            "text/plain": [
              "<matplotlib.collections.LineCollection at 0x7fbd274d8050>"
            ]
          },
          "metadata": {},
          "execution_count": 62
        },
        {
          "output_type": "display_data",
          "data": {
            "text/plain": [
              "<Figure size 576x432 with 1 Axes>"
            ],
            "image/png": "[encoded data removed]"
          },
          "metadata": {
            "needs_background": "light"
          }
        }
      ]
    }
  ],
  "metadata": {
    "kernelspec": {
      "display_name": "Python 3 (ipykernel)",
      "language": "python",
      "name": "python3"
    },
    "language_info": {
      "codemirror_mode": {
        "name": "ipython",
        "version": 3
      },
      "file_extension": ".py",
      "mimetype": "text/x-python",
      "name": "python",
      "nbconvert_exporter": "python",
      "pygments_lexer": "ipython3",
      "version": "3.9.7"
    },
    "colab": {
      "provenance": [],
      "collapsed_sections": []
    }
  },
  "nbformat": 4,
  "nbformat_minor": 5
}