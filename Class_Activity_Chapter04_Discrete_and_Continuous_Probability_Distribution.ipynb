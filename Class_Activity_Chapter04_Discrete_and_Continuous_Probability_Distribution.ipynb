{
  "cells": [
    {
      "cell_type": "code",
      "execution_count": null,
      "id": "64d6393f",
      "metadata": {
        "id": "64d6393f"
      },
      "outputs": [],
      "source": [
        "from numpy.random.mtrand import randint\n",
        "import sys\n",
        "import pandas as pd\n",
        "import numpy as np\n",
        "import scipy as sp\n",
        "import IPython\n",
        "import sklearn\n",
        "from numpy.random import randn\n",
        "from numpy.random import seed\n",
        "from matplotlib import pyplot\n",
        "from itertools import product as prod\n",
        "from sklearn.cluster import KMeans\n",
        "from sklearn.neighbors import KNeighborsClassifier as clf\n",
        "from sklearn.datasets import load_iris\n",
        "from sklearn.model_selection import train_test_split\n",
        "from sklearn import svm\n",
        "from sklearn.linear_model import LogisticRegression\n",
        "from sklearn.metrics import classification_report\n",
        "from sklearn.metrics import confusion_matrix\n",
        "import matplotlib.pyplot as plt\n",
        "import seaborn as sns; sns.set(font_scale=1.2)\n",
        "from numpy import random\n",
        "%matplotlib inline\n",
        "from scipy.integrate import quad\n",
        "import scipy.stats as st\n",
        "from scipy.stats import norm\n",
        "from scipy.stats import chi2\n",
        "from scipy.stats import lognorm\n",
        "from scipy.stats import expon\n",
        "from scipy.stats import t\n",
        "import scipy.stats as stats\n",
        "import pylab \n",
        "import statsmodels.api as sm\n",
        "from scipy.stats import shapiro \n",
        "from scipy.stats import kstest \n",
        "%pip install fitter\n",
        "from fitter import Fitter, get_common_distributions, get_distributions"
      ]
    },
    {
      "cell_type": "code",
      "source": [
        "# seed the random number generator\n",
        "seed(100)\n",
        "s = pd.Series([np.random.randint(0,2) for i in range(1,1000)])\n",
        "s.value_counts().plot(kind='bar');"
      ],
      "metadata": {
        "id": "xDdJWwEgXpJ4"
      },
      "id": "xDdJWwEgXpJ4",
      "execution_count": null,
      "outputs": []
    },
    {
      "cell_type": "code",
      "execution_count": null,
      "id": "e753743f",
      "metadata": {
        "colab": {
          "base_uri": "https://localhost:8080/"
        },
        "id": "e753743f",
        "outputId": "8b3e17a4-104e-4cfc-a3d6-ab1493b76263"
      },
      "outputs": [
        {
          "output_type": "stream",
          "name": "stdout",
          "text": [
            "Relative Frequency of Heads is 0.504\n"
          ]
        }
      ],
      "source": [
        "np.random.seed(10)\n",
        "def frequency_heads(coin_flip_sequence):\n",
        "    total_heads = len([head for head in coin_flip_sequence if head == 1])\n",
        "    return total_heads / len(coin_flip_sequence)\n",
        "    coin_flips = [np.random.randint(0, 2) for _ in range(10)]\n",
        "freq_heads = frequency_heads(coin_flips)\n",
        "print(f\"Relative Frequency of Heads is {freq_heads}\")"
      ]
    },
    {
      "cell_type": "code",
      "source": [
        "np.random.seed(0)\n",
        "coin_flips = []\n",
        "frequencies = []\n",
        "for _ in range(1000):\n",
        "    coin_flips.append(np.random.randint(0, 2))\n",
        "    frequencies.append(frequency_heads(coin_flips))\n",
        "plt.plot(list(range(1000)), frequencies)\n",
        "plt.axhline(0.5, color='k')\n",
        "plt.xlabel('Number of Coin Flips')\n",
        "plt.ylabel('Head-Relative Frequency')\n",
        "plt.show()"
      ],
      "metadata": {
        "colab": {
          "base_uri": "https://localhost:8080/",
          "height": 235
        },
        "id": "fMu2qhEdXz0U",
        "outputId": "c3621b2c-5b22-49a5-f77f-25dc6b974dcf"
      },
      "id": "fMu2qhEdXz0U",
      "execution_count": null,
      "outputs": [
        {
          "output_type": "error",
          "ename": "NameError",
          "evalue": "ignored",
          "traceback": [
            "\u001b[0;31m---------------------------------------------------------------------------\u001b[0m",
            "\u001b[0;31mNameError\u001b[0m                                 Traceback (most recent call last)",
            "\u001b[0;32m<ipython-input-1-f9ac1a33e8b2>\u001b[0m in \u001b[0;36m<module>\u001b[0;34m\u001b[0m\n\u001b[0;32m----> 1\u001b[0;31m \u001b[0mnp\u001b[0m\u001b[0;34m.\u001b[0m\u001b[0mrandom\u001b[0m\u001b[0;34m.\u001b[0m\u001b[0mseed\u001b[0m\u001b[0;34m(\u001b[0m\u001b[0;36m0\u001b[0m\u001b[0;34m)\u001b[0m\u001b[0;34m\u001b[0m\u001b[0;34m\u001b[0m\u001b[0m\n\u001b[0m\u001b[1;32m      2\u001b[0m \u001b[0mcoin_flips\u001b[0m \u001b[0;34m=\u001b[0m \u001b[0;34m[\u001b[0m\u001b[0;34m]\u001b[0m\u001b[0;34m\u001b[0m\u001b[0;34m\u001b[0m\u001b[0m\n\u001b[1;32m      3\u001b[0m \u001b[0mfrequencies\u001b[0m \u001b[0;34m=\u001b[0m \u001b[0;34m[\u001b[0m\u001b[0;34m]\u001b[0m\u001b[0;34m\u001b[0m\u001b[0;34m\u001b[0m\u001b[0m\n\u001b[1;32m      4\u001b[0m \u001b[0;32mfor\u001b[0m \u001b[0m_\u001b[0m \u001b[0;32min\u001b[0m \u001b[0mrange\u001b[0m\u001b[0;34m(\u001b[0m\u001b[0;36m1000\u001b[0m\u001b[0;34m)\u001b[0m\u001b[0;34m:\u001b[0m\u001b[0;34m\u001b[0m\u001b[0;34m\u001b[0m\u001b[0m\n\u001b[1;32m      5\u001b[0m     \u001b[0mcoin_flips\u001b[0m\u001b[0;34m.\u001b[0m\u001b[0mappend\u001b[0m\u001b[0;34m(\u001b[0m\u001b[0mnp\u001b[0m\u001b[0;34m.\u001b[0m\u001b[0mrandom\u001b[0m\u001b[0;34m.\u001b[0m\u001b[0mrandint\u001b[0m\u001b[0;34m(\u001b[0m\u001b[0;36m0\u001b[0m\u001b[0;34m,\u001b[0m \u001b[0;36m2\u001b[0m\u001b[0;34m)\u001b[0m\u001b[0;34m)\u001b[0m\u001b[0;34m\u001b[0m\u001b[0;34m\u001b[0m\u001b[0m\n",
            "\u001b[0;31mNameError\u001b[0m: name 'np' is not defined"
          ]
        }
      ]
    },
    {
      "cell_type": "code",
      "source": [
        "# # creating a set with curely braces\n",
        "# set1={4,7} #{1:'value'}\n",
        "# print(set1)\n",
        "# print(type(set1))\n",
        "\n",
        "#converitng a list into a set\n",
        "# my_list=[1,2,3,4]\n",
        "# my_set_form_list=set(my_list)\n",
        "# print(my_set_form_list)\n",
        "\n",
        "# my_set=set([3,5,7])\n",
        "# print(\"My set\", my_set)\n",
        "# print(\"3 is in My set\", 3 in my_set)\n",
        "# print(\"1 is in My set\", 1 in my_set)\n",
        "# print(\"6 is in My set\", 6 not in my_set)\n",
        "\n",
        "\n",
        "# A=set([x for x in range(1,7)])\n",
        "# B=set([x for x in range(1,7)])\n",
        "# p = list(prod(A,B))\n",
        "# print('A :', A)\n",
        "# print('B :',B)\n",
        "# print('product:', p)"
      ],
      "metadata": {
        "id": "KpbnFkU9X9_4"
      },
      "id": "KpbnFkU9X9_4",
      "execution_count": null,
      "outputs": []
    },
    {
      "cell_type": "code",
      "source": [
        "# Throwing 3 dice\n",
        "n_dice=3\n",
        "dice_faces={1,2,3,4,5,6}\n",
        "event_space=set(prod(dice_faces,repeat=n_dice))\n",
        "print(event_space)\n",
        "len(event_space)"
      ],
      "metadata": {
        "colab": {
          "base_uri": "https://localhost:8080/"
        },
        "id": "f4LS79PdYKvi",
        "outputId": "1b223d1d-4b4d-4da0-a889-edd489a29626"
      },
      "id": "f4LS79PdYKvi",
      "execution_count": null,
      "outputs": [
        {
          "output_type": "stream",
          "name": "stdout",
          "text": [
            "{(4, 2, 2), (1, 4, 4), (2, 2, 4), (5, 5, 1), (5, 2, 1), (1, 4, 2), (5, 5, 3), (3, 1, 6), (5, 2, 3), (5, 5, 5), (3, 1, 4), (2, 6, 5), (3, 2, 2), (4, 1, 5), (3, 1, 2), (2, 6, 3), (6, 5, 5), (2, 5, 3), (4, 4, 2), (1, 2, 2), (6, 6, 3), (2, 6, 1), (6, 5, 3), (3, 2, 6), (2, 5, 1), (4, 6, 1), (4, 1, 1), (1, 2, 4), (6, 6, 1), (5, 3, 2), (1, 5, 5), (6, 5, 1), (3, 2, 4), (4, 6, 3), (4, 1, 3), (1, 2, 6), (2, 5, 5), (4, 6, 5), (1, 3, 5), (6, 3, 1), (4, 3, 6), (6, 6, 5), (5, 3, 6), (1, 5, 1), (3, 4, 5), (2, 3, 4), (1, 3, 3), (6, 3, 3), (4, 3, 4), (5, 6, 2), (5, 3, 4), (1, 5, 3), (2, 3, 6), (1, 3, 1), (6, 3, 5), (4, 3, 2), (5, 6, 4), (6, 4, 4), (3, 3, 1), (5, 1, 5), (3, 4, 1), (6, 2, 6), (5, 6, 6), (6, 4, 6), (3, 3, 3), (3, 4, 3), (2, 3, 2), (6, 2, 4), (6, 1, 2), (3, 3, 5), (2, 4, 2), (5, 1, 1), (3, 6, 6), (6, 2, 2), (5, 4, 3), (1, 6, 4), (6, 4, 2), (5, 1, 3), (2, 4, 4), (3, 6, 4), (4, 5, 2), (6, 1, 6), (5, 4, 1), (1, 6, 6), (2, 4, 6), (3, 6, 2), (2, 1, 5), (4, 5, 4), (4, 2, 5), (6, 1, 4), (3, 5, 2), (2, 2, 3), (4, 5, 6), (2, 1, 3), (5, 4, 5), (1, 6, 2), (2, 2, 1), (4, 4, 5), (2, 1, 1), (4, 2, 1), (1, 1, 2), (5, 2, 4), (3, 5, 6), (4, 4, 3), (4, 2, 3), (1, 1, 4), (5, 2, 6), (3, 5, 4), (2, 2, 5), (4, 4, 1), (1, 1, 6), (1, 4, 5), (5, 2, 2), (1, 4, 3), (5, 5, 2), (3, 1, 5), (2, 6, 6), (6, 5, 6), (1, 4, 1), (4, 1, 4), (5, 5, 4), (3, 1, 3), (2, 6, 4), (6, 5, 4), (3, 2, 3), (2, 5, 2), (4, 1, 6), (1, 2, 1), (5, 5, 6), (3, 1, 1), (2, 6, 2), (6, 5, 2), (3, 2, 1), (1, 2, 3), (6, 6, 2), (5, 3, 3), (2, 5, 6), (4, 1, 2), (1, 2, 5), (5, 3, 1), (1, 5, 4), (3, 2, 5), (2, 5, 4), (4, 6, 2), (1, 3, 6), (6, 6, 6), (1, 5, 6), (3, 4, 4), (4, 6, 4), (1, 3, 4), (6, 3, 2), (5, 6, 1), (6, 6, 4), (5, 3, 5), (3, 4, 6), (2, 3, 5), (4, 6, 6), (1, 3, 2), (6, 3, 4), (4, 3, 5), (5, 6, 3), (6, 4, 5), (1, 5, 2), (6, 3, 6), (4, 3, 3), (5, 6, 5), (5, 1, 4), (2, 4, 1), (3, 4, 2), (2, 3, 1), (6, 2, 5), (4, 3, 1), (6, 4, 1), (3, 3, 2), (2, 4, 3), (5, 1, 6), (2, 3, 3), (6, 2, 3), (6, 1, 3), (5, 4, 2), (6, 4, 3), (3, 3, 4), (2, 4, 5), (4, 5, 1), (2, 1, 6), (6, 2, 1), (6, 1, 1), (1, 6, 5), (3, 3, 6), (5, 1, 2), (3, 6, 5), (2, 1, 4), (4, 5, 3), (5, 4, 6), (3, 5, 3), (3, 6, 3), (2, 1, 2), (4, 5, 5), (4, 2, 4), (1, 1, 1), (6, 1, 5), (5, 4, 4), (1, 6, 1), (3, 5, 1), (2, 2, 2), (4, 4, 6), (3, 6, 1), (4, 2, 6), (1, 1, 3), (1, 6, 3), (4, 4, 4), (1, 1, 5), (5, 2, 5), (1, 4, 6), (3, 5, 5), (2, 2, 6)}\n"
          ]
        },
        {
          "output_type": "execute_result",
          "data": {
            "text/plain": [
              "216"
            ]
          },
          "metadata": {},
          "execution_count": 79
        }
      ]
    },
    {
      "cell_type": "code",
      "source": [
        "for outcome in event_space:\n",
        "    print(outcome,end=',')\n",
        "print()\n",
        "print(len(event_space))"
      ],
      "metadata": {
        "colab": {
          "base_uri": "https://localhost:8080/"
        },
        "id": "9xgbXbW2Yb1c",
        "outputId": "0c5a1569-d8fb-4ae2-9070-8dc3d9f22fcf"
      },
      "id": "9xgbXbW2Yb1c",
      "execution_count": null,
      "outputs": [
        {
          "output_type": "stream",
          "name": "stdout",
          "text": [
            "(4, 2, 2),(1, 4, 4),(2, 2, 4),(5, 5, 1),(5, 2, 1),(1, 4, 2),(5, 5, 3),(3, 1, 6),(5, 2, 3),(5, 5, 5),(3, 1, 4),(2, 6, 5),(3, 2, 2),(4, 1, 5),(3, 1, 2),(2, 6, 3),(6, 5, 5),(2, 5, 3),(4, 4, 2),(1, 2, 2),(6, 6, 3),(2, 6, 1),(6, 5, 3),(3, 2, 6),(2, 5, 1),(4, 6, 1),(4, 1, 1),(1, 2, 4),(6, 6, 1),(5, 3, 2),(1, 5, 5),(6, 5, 1),(3, 2, 4),(4, 6, 3),(4, 1, 3),(1, 2, 6),(2, 5, 5),(4, 6, 5),(1, 3, 5),(6, 3, 1),(4, 3, 6),(6, 6, 5),(5, 3, 6),(1, 5, 1),(3, 4, 5),(2, 3, 4),(1, 3, 3),(6, 3, 3),(4, 3, 4),(5, 6, 2),(5, 3, 4),(1, 5, 3),(2, 3, 6),(1, 3, 1),(6, 3, 5),(4, 3, 2),(5, 6, 4),(6, 4, 4),(3, 3, 1),(5, 1, 5),(3, 4, 1),(6, 2, 6),(5, 6, 6),(6, 4, 6),(3, 3, 3),(3, 4, 3),(2, 3, 2),(6, 2, 4),(6, 1, 2),(3, 3, 5),(2, 4, 2),(5, 1, 1),(3, 6, 6),(6, 2, 2),(5, 4, 3),(1, 6, 4),(6, 4, 2),(5, 1, 3),(2, 4, 4),(3, 6, 4),(4, 5, 2),(6, 1, 6),(5, 4, 1),(1, 6, 6),(2, 4, 6),(3, 6, 2),(2, 1, 5),(4, 5, 4),(4, 2, 5),(6, 1, 4),(3, 5, 2),(2, 2, 3),(4, 5, 6),(2, 1, 3),(5, 4, 5),(1, 6, 2),(2, 2, 1),(4, 4, 5),(2, 1, 1),(4, 2, 1),(1, 1, 2),(5, 2, 4),(3, 5, 6),(4, 4, 3),(4, 2, 3),(1, 1, 4),(5, 2, 6),(3, 5, 4),(2, 2, 5),(4, 4, 1),(1, 1, 6),(1, 4, 5),(5, 2, 2),(1, 4, 3),(5, 5, 2),(3, 1, 5),(2, 6, 6),(6, 5, 6),(1, 4, 1),(4, 1, 4),(5, 5, 4),(3, 1, 3),(2, 6, 4),(6, 5, 4),(3, 2, 3),(2, 5, 2),(4, 1, 6),(1, 2, 1),(5, 5, 6),(3, 1, 1),(2, 6, 2),(6, 5, 2),(3, 2, 1),(1, 2, 3),(6, 6, 2),(5, 3, 3),(2, 5, 6),(4, 1, 2),(1, 2, 5),(5, 3, 1),(1, 5, 4),(3, 2, 5),(2, 5, 4),(4, 6, 2),(1, 3, 6),(6, 6, 6),(1, 5, 6),(3, 4, 4),(4, 6, 4),(1, 3, 4),(6, 3, 2),(5, 6, 1),(6, 6, 4),(5, 3, 5),(3, 4, 6),(2, 3, 5),(4, 6, 6),(1, 3, 2),(6, 3, 4),(4, 3, 5),(5, 6, 3),(6, 4, 5),(1, 5, 2),(6, 3, 6),(4, 3, 3),(5, 6, 5),(5, 1, 4),(2, 4, 1),(3, 4, 2),(2, 3, 1),(6, 2, 5),(4, 3, 1),(6, 4, 1),(3, 3, 2),(2, 4, 3),(5, 1, 6),(2, 3, 3),(6, 2, 3),(6, 1, 3),(5, 4, 2),(6, 4, 3),(3, 3, 4),(2, 4, 5),(4, 5, 1),(2, 1, 6),(6, 2, 1),(6, 1, 1),(1, 6, 5),(3, 3, 6),(5, 1, 2),(3, 6, 5),(2, 1, 4),(4, 5, 3),(5, 4, 6),(3, 5, 3),(3, 6, 3),(2, 1, 2),(4, 5, 5),(4, 2, 4),(1, 1, 1),(6, 1, 5),(5, 4, 4),(1, 6, 1),(3, 5, 1),(2, 2, 2),(4, 4, 6),(3, 6, 1),(4, 2, 6),(1, 1, 3),(1, 6, 3),(4, 4, 4),(1, 1, 5),(5, 2, 5),(1, 4, 6),(3, 5, 5),(2, 2, 6),\n",
            "216\n"
          ]
        }
      ]
    },
    {
      "cell_type": "code",
      "source": [
        "# sum is multiple of 3\n",
        "favorable_outcome = []\n",
        "for outcome in event_space:\n",
        "    x,y,z=outcome\n",
        "    if(x+y+z)%3==0:\n",
        "        favorable_outcome.append(outcome)\n",
        "favorable_outcome1= set(favorable_outcome)\n",
        "for f_outcome in favorable_outcome:\n",
        "    print(f_outcome,end=',')\n",
        "print()\n",
        "print(len(favorable_outcome1))\n",
        "prob1=len(favorable_outcome1)/len(event_space)\n",
        "print('Event 1:',prob1)"
      ],
      "metadata": {
        "colab": {
          "base_uri": "https://localhost:8080/"
        },
        "id": "i8WmqMgAYeyN",
        "outputId": "11c3794a-2da3-4fbb-e437-a26931a12aa3"
      },
      "id": "i8WmqMgAYeyN",
      "execution_count": null,
      "outputs": [
        {
          "output_type": "stream",
          "name": "stdout",
          "text": [
            "(1, 4, 4),(5, 5, 5),(3, 1, 2),(6, 6, 3),(2, 6, 1),(4, 1, 1),(6, 5, 1),(3, 2, 4),(1, 2, 6),(2, 5, 5),(4, 6, 5),(1, 3, 5),(3, 4, 5),(2, 3, 4),(6, 3, 3),(5, 3, 4),(1, 5, 3),(4, 3, 2),(5, 6, 4),(3, 3, 3),(6, 2, 4),(6, 1, 2),(3, 6, 6),(5, 4, 3),(6, 4, 2),(5, 1, 3),(2, 4, 6),(4, 5, 6),(2, 1, 3),(1, 6, 2),(4, 2, 3),(1, 1, 4),(3, 5, 4),(2, 2, 5),(4, 4, 1),(5, 2, 2),(5, 5, 2),(3, 1, 5),(1, 4, 1),(4, 1, 4),(2, 6, 4),(6, 5, 4),(2, 5, 2),(3, 2, 1),(1, 2, 3),(5, 3, 1),(4, 6, 2),(6, 6, 6),(1, 5, 6),(5, 6, 1),(1, 3, 2),(4, 3, 5),(6, 4, 5),(6, 3, 6),(3, 4, 2),(2, 3, 1),(2, 4, 3),(5, 1, 6),(2, 1, 6),(6, 2, 1),(1, 6, 5),(3, 3, 6),(4, 5, 3),(5, 4, 6),(3, 6, 3),(1, 1, 1),(6, 1, 5),(3, 5, 1),(2, 2, 2),(4, 2, 6),(4, 4, 4),(5, 2, 5),\n",
            "72\n",
            "Event 1: 0.3333333333333333\n"
          ]
        }
      ]
    },
    {
      "cell_type": "code",
      "source": [
        "# #sum is multiple of 5 and 3\n",
        "n_dice=3\n",
        "dice_faces={1,2,3,4,5,6}\n",
        "event_space=set(prod(dice_faces,repeat=n_dice))\n",
        "favorable_outcome = []\n",
        "for outcome in event_space:\n",
        "    d1,d2,d3=outcome\n",
        "    if(d1+d2+d3)%5==0 and (d1+d2+d3)%3==0:\n",
        "        favorable_outcome.append(outcome)\n",
        "print(favorable_outcome2)\n",
        "favorable_outcome2= set(favorable_outcome)\n",
        "len(favorable_outcome2)\n",
        "prob2=len(favorable_outcome2)/len(event_space)\n",
        "print(\"Event 2:\",prob2)"
      ],
      "metadata": {
        "colab": {
          "base_uri": "https://localhost:8080/"
        },
        "id": "AMcbwCQpYhrZ",
        "outputId": "25162990-03fd-4612-dce0-6b5157dbb5ce"
      },
      "id": "AMcbwCQpYhrZ",
      "execution_count": null,
      "outputs": [
        {
          "output_type": "stream",
          "name": "stdout",
          "text": [
            "{(6, 6, 3), (6, 4, 5), (4, 6, 5), (5, 6, 4), (5, 5, 5), (5, 4, 6), (3, 6, 6), (6, 3, 6), (6, 5, 4), (4, 5, 6)}\n",
            "Event 2: 0.046296296296296294\n"
          ]
        }
      ]
    },
    {
      "cell_type": "code",
      "source": [
        "Intr = favorable_outcome1.intersection(favorable_outcome2)\n",
        "len(Intr)\n",
        "probi=len(Intr)/len(event_space)\n",
        "print('Intr:',probi)"
      ],
      "metadata": {
        "colab": {
          "base_uri": "https://localhost:8080/"
        },
        "id": "7F0kA12aYk9z",
        "outputId": "caa68934-3f4b-4017-8de2-aa4af03e248c"
      },
      "id": "7F0kA12aYk9z",
      "execution_count": null,
      "outputs": [
        {
          "output_type": "stream",
          "name": "stdout",
          "text": [
            "Intr: 0.046296296296296294\n"
          ]
        }
      ]
    },
    {
      "cell_type": "code",
      "source": [
        "Uni = favorable_outcome1.union(favorable_outcome2)\n",
        "len(Uni)\n",
        "probu=len(Uni)/len(event_space)\n",
        "print(\"Uni:\",probu)"
      ],
      "metadata": {
        "colab": {
          "base_uri": "https://localhost:8080/"
        },
        "id": "2_u4VrnnYtdD",
        "outputId": "48aea49f-075f-4c04-c3db-fa8482465c2c"
      },
      "id": "2_u4VrnnYtdD",
      "execution_count": null,
      "outputs": [
        {
          "output_type": "stream",
          "name": "stdout",
          "text": [
            "Uni: 0.3333333333333333\n"
          ]
        }
      ]
    },
    {
      "cell_type": "code",
      "source": [
        "Con12=probi/prob2\n",
        "print('Con12:', Con12)\n",
        "Con21=probi/prob1\n",
        "print('Con21:', Con21)"
      ],
      "metadata": {
        "colab": {
          "base_uri": "https://localhost:8080/"
        },
        "id": "NrVssm1wYwSW",
        "outputId": "54a4fc65-9d73-40b4-ca7d-004cbacfc849"
      },
      "id": "NrVssm1wYwSW",
      "execution_count": null,
      "outputs": [
        {
          "output_type": "stream",
          "name": "stdout",
          "text": [
            "Con12: 1.0\n",
            "Con21: 0.1388888888888889\n"
          ]
        }
      ]
    },
    {
      "cell_type": "code",
      "source": [
        "# Bayesian\n",
        "# –A GPR survey obtains signals that indicate whether the  geological structure is favorable to the presence of water. \n",
        "# USS: Unfavorable signal; water is fairly unlikely.FSS: Favorable signal; water is fairly likely.\n",
        "PW=0.25\n",
        "PD=0.75\n",
        "PUW = 0.4\n",
        "PUD = 0.8\n",
        "PWU=PUW*PW/(PUW*PW+PUD*PD) \n",
        "print('PWU:',PWU, ' PDU:', 1-PWU)\n",
        "PWF=(1-PUW)*PW/((1-PUW)*PW+(1-PUD)*PD) \n",
        "print('PFU:',PWF, ' PFU:', 1-PWF)"
      ],
      "metadata": {
        "id": "UnORTK-VYzWl"
      },
      "id": "UnORTK-VYzWl",
      "execution_count": null,
      "outputs": []
    },
    {
      "cell_type": "code",
      "source": [
        "# Toss a dice 3 times, let X = total # of 6\n",
        "favorable_outcome = []\n",
        "for outcome in event_space:\n",
        "    x,y,z=outcome\n",
        "    if x!=6 and y!=6 and z!=6:\n",
        "        favorable_outcome.append(outcome)\n",
        "favorable_outcome1= set(favorable_outcome)\n",
        "for f_outcome in favorable_outcome:\n",
        "    print(f_outcome,end=',')\n",
        "print()\n",
        "print(len(favorable_outcome1))\n",
        "prob1=len(favorable_outcome1)/len(event_space)\n",
        "print('1:',prob1)"
      ],
      "metadata": {
        "colab": {
          "base_uri": "https://localhost:8080/"
        },
        "id": "Yiscw9qnY2PN",
        "outputId": "b86b9adf-4572-4884-ddaf-0e4ce57cf261"
      },
      "id": "Yiscw9qnY2PN",
      "execution_count": null,
      "outputs": [
        {
          "output_type": "stream",
          "name": "stdout",
          "text": [
            "(4, 2, 2),(1, 4, 4),(2, 2, 4),(5, 5, 1),(5, 2, 1),(1, 4, 2),(5, 5, 3),(5, 2, 3),(5, 5, 5),(3, 1, 4),(3, 2, 2),(4, 1, 5),(3, 1, 2),(2, 5, 3),(4, 4, 2),(1, 2, 2),(2, 5, 1),(4, 1, 1),(1, 2, 4),(5, 3, 2),(1, 5, 5),(3, 2, 4),(4, 1, 3),(2, 5, 5),(1, 3, 5),(1, 5, 1),(3, 4, 5),(2, 3, 4),(1, 3, 3),(4, 3, 4),(5, 3, 4),(1, 5, 3),(1, 3, 1),(4, 3, 2),(3, 3, 1),(5, 1, 5),(3, 4, 1),(3, 3, 3),(3, 4, 3),(2, 3, 2),(3, 3, 5),(2, 4, 2),(5, 1, 1),(5, 4, 3),(5, 1, 3),(2, 4, 4),(4, 5, 2),(5, 4, 1),(2, 1, 5),(4, 5, 4),(4, 2, 5),(3, 5, 2),(2, 2, 3),(2, 1, 3),(5, 4, 5),(2, 2, 1),(4, 4, 5),(2, 1, 1),(4, 2, 1),(1, 1, 2),(5, 2, 4),(4, 4, 3),(4, 2, 3),(1, 1, 4),(3, 5, 4),(2, 2, 5),(4, 4, 1),(1, 4, 5),(5, 2, 2),(1, 4, 3),(5, 5, 2),(3, 1, 5),(1, 4, 1),(4, 1, 4),(5, 5, 4),(3, 1, 3),(3, 2, 3),(2, 5, 2),(1, 2, 1),(3, 1, 1),(3, 2, 1),(1, 2, 3),(5, 3, 3),(4, 1, 2),(1, 2, 5),(5, 3, 1),(1, 5, 4),(3, 2, 5),(2, 5, 4),(3, 4, 4),(1, 3, 4),(5, 3, 5),(2, 3, 5),(1, 3, 2),(4, 3, 5),(1, 5, 2),(4, 3, 3),(5, 1, 4),(2, 4, 1),(3, 4, 2),(2, 3, 1),(4, 3, 1),(3, 3, 2),(2, 4, 3),(2, 3, 3),(5, 4, 2),(3, 3, 4),(2, 4, 5),(4, 5, 1),(5, 1, 2),(2, 1, 4),(4, 5, 3),(3, 5, 3),(2, 1, 2),(4, 5, 5),(4, 2, 4),(1, 1, 1),(5, 4, 4),(3, 5, 1),(2, 2, 2),(1, 1, 3),(4, 4, 4),(1, 1, 5),(5, 2, 5),(3, 5, 5),\n",
            "125\n",
            "1: 0.5787037037037037\n"
          ]
        }
      ]
    },
    {
      "cell_type": "code",
      "source": [
        "PMF = [.5, .3, .1, .1]\n",
        "N6 = [0,1,2,3]\n",
        "plt.bar(N6, PMF)\n",
        "df = pd.DataFrame({'PMF' : [.5, .3, .1, .1],'N6' : [0,1,2,3]})\n",
        "plt.bar(df['N6'], df['PMF'], width = 0.4)\n",
        "# plt.bar(df['N6'] , df['PMF'].cumsum(), alpha=.5)"
      ],
      "metadata": {
        "id": "COQVYg_DY6iQ"
      },
      "id": "COQVYg_DY6iQ",
      "execution_count": null,
      "outputs": []
    },
    {
      "cell_type": "code",
      "source": [
        "Mean = np.dot(PMF,N6)\n",
        "print(Mean)\n",
        "Dev = [(.5-Mean)**2, (.3-Mean)**2, (.1-Mean)**2, (.1-Mean)**2]\n",
        "Var = np.dot(Dev,N6)\n",
        "print(Var)"
      ],
      "metadata": {
        "colab": {
          "base_uri": "https://localhost:8080/"
        },
        "id": "3x-vb5WRZVY0",
        "outputId": "5bf9bceb-1dbf-4177-85ae-ffd7a4bddb5d"
      },
      "id": "3x-vb5WRZVY0",
      "execution_count": null,
      "outputs": [
        {
          "output_type": "stream",
          "name": "stdout",
          "text": [
            "0.8\n",
            "2.7\n"
          ]
        }
      ]
    },
    {
      "cell_type": "code",
      "source": [
        "# DISCRETE PROBABILITY DISTRIBUTION\n",
        "NUM_ROLLS = 10\n",
        "values = [1, 2, 3, 4, 5, 6]\n",
        "# probs = [0.1, 0.1, 0.1, 0.1, 0.1, 0.5]\n",
        "sample = np.random.choice(values, NUM_ROLLS)\n",
        "# sample = np.random.choice(values, NUM_ROLLS, p=probs)\n",
        "# Numpy arrays containing counts for each side\n",
        "side, count = np.unique(sample, return_counts=True)\n",
        "probs = count / len(sample)\n",
        "# Plot the results\n",
        "sns.barplot(side, probs)\n",
        "plt.title(\n",
        "    f\"Discrete Probability Distribution for Fair 6-Sided Die ({NUM_ROLLS} rolls)\")\n",
        "plt.ylabel(\"Probability\")\n",
        "plt.xlabel(\"Outcome\")\n",
        "plt.show()"
      ],
      "metadata": {
        "id": "UX-DPfrOZd0H"
      },
      "id": "UX-DPfrOZd0H",
      "execution_count": null,
      "outputs": []
    },
    {
      "cell_type": "code",
      "source": [
        "from scipy.stats import bernoulli\n",
        "data_bern = bernoulli.rvs(size=100,p=0.6) #generates an array containing specified number of random values drawn from the given geometric distribution.\n",
        "ax= sns.distplot(data_bern,\n",
        "                 kde=False,\n",
        "                 color=\"skyblue\",\n",
        "                 hist_kws={\"linewidth\": 15,'alpha':1})\n",
        "ax.set(xlabel='Bernoulli Distribution', ylabel='Frequency')"
      ],
      "metadata": {
        "colab": {
          "base_uri": "https://localhost:8080/",
          "height": 361
        },
        "id": "Z-8p2VVuZhdP",
        "outputId": "d69fbdc2-9bce-4643-b3a8-1413bbbb427b"
      },
      "id": "Z-8p2VVuZhdP",
      "execution_count": null,
      "outputs": [
        {
          "output_type": "stream",
          "name": "stderr",
          "text": [
            "/usr/local/lib/python3.7/dist-packages/seaborn/distributions.py:2619: FutureWarning: `distplot` is a deprecated function and will be removed in a future version. Please adapt your code to use either `displot` (a figure-level function with similar flexibility) or `histplot` (an axes-level function for histograms).\n",
            "  warnings.warn(msg, FutureWarning)\n"
          ]
        },
        {
          "output_type": "execute_result",
          "data": {
            "text/plain": [
              "[Text(0, 0.5, 'Frequency'), Text(0.5, 0, 'Bernoulli Distribution')]"
            ]
          },
          "metadata": {},
          "execution_count": 14
        },
        {
          "output_type": "display_data",
          "data": {
            "text/plain": [
              "<Figure size 432x288 with 1 Axes>"
            ],
            "image/png": "[encoded data removed]"
          },
          "metadata": {
            "needs_background": "light"
          }
        }
      ]
    },
    {
      "cell_type": "code",
      "source": [
        "from scipy.stats import binom\n",
        "# data_binom = binom.rvs(n=10,size=100,p=0.9)\n",
        "# ax= sns.distplot(data_binom,\n",
        "#                  kde=False,\n",
        "#                  color=\"skyblue\",\n",
        "#                  hist_kws={\"linewidth\": 10,'alpha':1})\n",
        "# ax.set(xlabel='Binomial Distribution', ylabel='Frequency')\n",
        "\n",
        "from scipy.stats import binom\n",
        "# # setting the values of n and p\n",
        "# n = 6\n",
        "# p = 0.6\n",
        "# # defining the list of r values\n",
        "# r_values = list(range(n + 1))\n",
        "# # obtaining the mean and variance \n",
        "# mean, var = binom.stats(n, p)\n",
        "# # list of pmf values\n",
        "# dist = [binom.pmf(r, n, p) for r in r_values ]\n",
        "# # printing the table\n",
        "# print(\"r\\tp(r)\")\n",
        "# for i in range(n + 1):\n",
        "#     print(str(r_values[i]) + \"\\t\" + str(dist[i]))\n",
        "# # printing mean and variance\n",
        "# print(\"mean = \"+str(mean))\n",
        "# print(\"variance = \"+str(var))\n",
        "\n",
        "# from scipy.stats import binom\n",
        "# import matplotlib.pyplot as plt\n",
        "# # What is the probability of different number of rainny day over the next week if the chance of raining is 0.6.\n",
        "# # setting the values\n",
        "# # of n and p\n",
        "# n = 7\n",
        "# p = 0.6\n",
        "# # defining list of r values\n",
        "# r_values = list(range(n + 1))\n",
        "# # list of pmf values\n",
        "# dist = [binom.pmf(r, n, p) for r in r_values ]\n",
        "# distc = [binom.cdf(r, n, p) for r in r_values ]\n",
        "# stat = [binom.stats(n,p, loc=0, moments='mvsk')] # mean, variance, Skewness, kurtosis\n",
        "# print(stat)\n",
        "# # plotting the graph\n",
        "# plt.bar(r_values, dist)\n",
        "# plt.bar(r_values, distc, alpha=.5)\n",
        "# plt.show()\n",
        "\n",
        "# sns.distplot(random.normal(loc=50, scale=5, size=1000), hist=False, label='normal')\n",
        "# sns.distplot(random.binomial(n=100, p=0.5, size=1000), hist=False, label='binomial')\n",
        "# plt.show()"
      ],
      "metadata": {
        "colab": {
          "base_uri": "https://localhost:8080/",
          "height": 360
        },
        "id": "qhv1jhYmZmMz",
        "outputId": "6bc9ac1a-f5ea-416e-f7ba-c11b8b7499be"
      },
      "id": "qhv1jhYmZmMz",
      "execution_count": null,
      "outputs": [
        {
          "output_type": "stream",
          "name": "stderr",
          "text": [
            "/usr/local/lib/python3.7/dist-packages/seaborn/distributions.py:2619: FutureWarning: `distplot` is a deprecated function and will be removed in a future version. Please adapt your code to use either `displot` (a figure-level function with similar flexibility) or `kdeplot` (an axes-level function for kernel density plots).\n",
            "  warnings.warn(msg, FutureWarning)\n",
            "/usr/local/lib/python3.7/dist-packages/seaborn/distributions.py:2619: FutureWarning: `distplot` is a deprecated function and will be removed in a future version. Please adapt your code to use either `displot` (a figure-level function with similar flexibility) or `kdeplot` (an axes-level function for kernel density plots).\n",
            "  warnings.warn(msg, FutureWarning)\n"
          ]
        },
        {
          "output_type": "display_data",
          "data": {
            "text/plain": [
              "<Figure size 432x288 with 1 Axes>"
            ],
            "image/png": "[encoded data removed]"
          },
          "metadata": {
            "needs_background": "light"
          }
        }
      ]
    },
    {
      "cell_type": "code",
      "source": [
        "from scipy.stats import geom\n",
        "# x= np.arange(0,25)\n",
        "# p=0.5\n",
        "# dist=geom(p)\n",
        "# ax=sns.barplot(x=x,y=dist.pmf(x))\n",
        "# ax=sns.barplot(x=x,y=dist.cdf(x), alpha=.1)\n",
        "\n",
        "# #Let’s calculate the probability of first accident happens in each year. Given the probability of an accident (success) is 0.1\n",
        "# #X = Discrete random variable representing year \n",
        "# #p = Probability of occuring an accident\n",
        "X = [1, 2, 3, 4, 5, 6, 7, 8, 9, 10]\n",
        "p = 0.1\n",
        "# Calculate geometric probability distribution\n",
        "geom_pd = geom.pmf(X, p)\n",
        "# Plot the probability distribution\n",
        "fig, ax = plt.subplots(1, 1, figsize=(8, 6))\n",
        "ax.plot(X, geom_pd, 'bo', ms=8, label='geom pmf')\n",
        "plt.ylabel(\"Probability\", fontsize=\"18\")\n",
        "plt.xlabel(\"X - Year\", fontsize=\"18\")\n",
        "plt.title(\"Geometric Distribution - Accidents Probability\", fontsize=\"18\")\n",
        "ax.vlines(X, 0, geom_pd, colors='b', lw=5, alpha=0.5)\n",
        "fig, ax = plt.subplots(1, 1)\n",
        "p = 0.05\n",
        "mean, var, skew, kurt = geom.stats(p, moments='mvsk')\n",
        "x = np.arange(geom.ppf(0.01, p),\n",
        "              geom.ppf(0.99, p))\n",
        "ax.plot(x, geom.pmf(x, p), 'bo', ms=8, label='geom pmf')\n",
        "ax.vlines(x, 0, geom.pmf(x, p), colors='b', lw=5, alpha=0.5)\n",
        "\n",
        "# data_geom = geom.rvs(p=.03,size=1000, random_state=13)\n",
        "# ax= sns.distplot(data_geom,\n",
        "#                  kde=False,\n",
        "#                  color=\"skyblue\",\n",
        "#                  hist_kws={\"linewidth\": 5,'alpha':1})\n",
        "# ax.set(xlabel='Geometrical Distribution', ylabel='Frequency')\n",
        "\n",
        "# x = np.arange(0, 1, 0.001) \n",
        "# y = geom.ppf(x, 0.5) #function takes the probability value and returns cumulative value corresponding to probability value of the distribution\n",
        "# plt.plot(x, y) \n",
        "# plt.show()"
      ],
      "metadata": {
        "colab": {
          "base_uri": "https://localhost:8080/",
          "height": 693
        },
        "id": "E2WFK_dAZrNX",
        "outputId": "0d405841-7f8c-4719-8ebf-70bf14a2e884"
      },
      "id": "E2WFK_dAZrNX",
      "execution_count": 36,
      "outputs": [
        {
          "output_type": "execute_result",
          "data": {
            "text/plain": [
              "<matplotlib.collections.LineCollection at 0x7f8fa9d7e610>"
            ]
          },
          "metadata": {},
          "execution_count": 36
        },
        {
          "output_type": "display_data",
          "data": {
            "text/plain": [
              "<Figure size 576x432 with 1 Axes>"
            ],
            "image/png": "[encoded data removed]"
          },
          "metadata": {
            "needs_background": "light"
          }
        },
        {
          "output_type": "display_data",
          "data": {
            "text/plain": [
              "<Figure size 432x288 with 1 Axes>"
            ],
            "image/png": "[encoded data removed]"
          },
          "metadata": {
            "needs_background": "light"
          }
        }
      ]
    },
    {
      "cell_type": "code",
      "source": [
        "from scipy.stats import poisson\n",
        "# sns.distplot(random.poisson(lam=2, size=1000), kde=False)\n",
        "\n",
        "# sns.distplot(random.normal(loc=50, scale=7, size=1000), hist=False, label='normal')\n",
        "# sns.distplot(random.poisson(lam=50, size=1000), hist=False, label='poisson')\n",
        "# plt.show()\n",
        "\n",
        "# data_poisson = poisson.rvs(mu=3,size=1000)\n",
        "# ax= sns.distplot(data_poisson,\n",
        "#                  kde=False,\n",
        "#                  color=\"skyblue\",\n",
        "#                  hist_kws={\"linewidth\": 5,'alpha':1})\n",
        "# ax.set(xlabel='Poisson Distribution', ylabel='Frequency')\n",
        "\n",
        "# Poisson distribution for Space interval: \n",
        "# Let’s say that you are out on a crack detection. The rate of occurrences of a crack in a range of 1km is 2. What is the probability that 0, 1, 2, 3, 4, or 5 cracks happen in 1km. \n",
        "X = [0, 1, 2, 3, 4, 5]\n",
        "lmbda = 2\n",
        "# Probability values\n",
        "poisson_pd = poisson.pmf(X, lmbda)\n",
        "# Plot the probability distribution\n",
        "fig, ax = plt.subplots(1, 1, figsize=(8, 6))\n",
        "ax.plot(X, poisson_pd, 'bo', ms=8, label='poisson pmf')\n",
        "ax.vlines(X, 0, poisson_pd, colors='b', lw=5, alpha=0.5)\n",
        "\n",
        "# Poisson distribution for Time interval: \n",
        "# Let’s say that the number of buses that come on a bus stop in span of 5 minutes is 1. \n",
        "# Poisson distribution can be used to model the probability of different number of buses, X, coming to the bus stop within the next 5 minutes where X can take value of 0, 1, 2, 3, 4.\n",
        "X = [0, 1, 2, 3, 4]\n",
        "lmbda = 1\n",
        "# Probability values\n",
        "poisson_pd = poisson.pmf(X, lmbda)\n",
        "# Plot the probability distribution\n",
        "fig, ax = plt.subplots(1, 1, figsize=(8, 6))\n",
        "ax.plot(X, poisson_pd, 'bo', ms=8, label='poisson pmf')\n",
        "plt.ylabel(\"Probability\", fontsize=\"18\")\n",
        "plt.xlabel(\"X - No. of Buses\", fontsize=\"18\")\n",
        "plt.title(\"Poisson Distribution - No. of Buses Vs Probability\", fontsize=\"18\")\n",
        "ax.vlines(X, 0, poisson_pd, colors='b', lw=5, alpha=0.5)"
      ],
      "metadata": {
        "id": "v66ElsoSZ0Er",
        "colab": {
          "base_uri": "https://localhost:8080/",
          "height": 802
        },
        "outputId": "99fe153c-0063-437a-8420-b6c2e5f08661"
      },
      "id": "v66ElsoSZ0Er",
      "execution_count": 38,
      "outputs": [
        {
          "output_type": "execute_result",
          "data": {
            "text/plain": [
              "<matplotlib.collections.LineCollection at 0x7f8fa8fb1290>"
            ]
          },
          "metadata": {},
          "execution_count": 38
        },
        {
          "output_type": "display_data",
          "data": {
            "text/plain": [
              "<Figure size 576x432 with 1 Axes>"
            ],
            "image/png": "[encoded data removed]"
          },
          "metadata": {
            "needs_background": "light"
          }
        },
        {
          "output_type": "display_data",
          "data": {
            "text/plain": [
              "<Figure size 576x432 with 1 Axes>"
            ],
            "image/png": "[encoded data removed]"
          },
          "metadata": {
            "needs_background": "light"
          }
        }
      ]
    },
    {
      "cell_type": "code",
      "source": [
        "# Continuous Prob\n",
        "\n",
        "# Probability: area under the curve (y=x/2)\n",
        "# def integrand(x, a, b):\n",
        "#     return a*x + b\n",
        "# a = 0.5\n",
        "# b = 0\n",
        "# I = quad(integrand, 0, 2, args=(a,b))\n",
        "# I\n",
        "\n",
        "# # Mean\n",
        "# def integrand(x, a, b):\n",
        "#     return 0.5*x**2 \n",
        "# I = quad(integrand, 0, 2, args=(a,b))\n",
        "# I\n",
        "\n",
        "# # Variance\n",
        "def integrand(x, a, b):\n",
        "    return (x-4/3)**2*x/2 + b\n",
        "I = quad(integrand, 0, 2, args=(a,b))\n",
        "I"
      ],
      "metadata": {
        "colab": {
          "base_uri": "https://localhost:8080/"
        },
        "id": "slWewH5hs3YI",
        "outputId": "713ba777-f8a7-4227-fe70-07c64afe8993"
      },
      "id": "slWewH5hs3YI",
      "execution_count": null,
      "outputs": [
        {
          "output_type": "execute_result",
          "data": {
            "text/plain": [
              "(0.22222222222222224, 2.4671622769447926e-15)"
            ]
          },
          "metadata": {},
          "execution_count": 12
        }
      ]
    },
    {
      "cell_type": "code",
      "source": [
        "# Uniform Dist\n",
        "\n",
        "# Uni rand between (0,1)\n",
        "# sns.distplot(random.uniform(size=1000), hist=True)\n",
        "# plt.show()\n",
        "\n",
        "# Uni rand between (a,b)\n",
        "# gfg = np.random.uniform(-5, 5, 5000)\n",
        "# plt.hist(gfg, bins = 50, density = True)\n",
        "# plt.show()\n",
        "\n",
        "# #creating an array of values between\n",
        "# #-3 to 8 with a difference of 0.1\n",
        "# x = np.arange(-3, 8, 0.1) \n",
        "# y = uniform.pdf(x, 0, 5)  \n",
        "# plt.plot(x, y) \n",
        "# plt.show()\n",
        "\n",
        "# #creating an array of values between\n",
        "# #-3 to 8 with a difference of 0.1\n",
        "# x = np.arange(-3, 8, 0.1)\n",
        "# y = uniform.cdf(x, 0, 5) \n",
        "# plt.plot(x, y) \n",
        "# plt.show()\n",
        "\n",
        "# #creating an array of probability from\n",
        "# #0 to 1 with a difference of 0.01\n",
        "# x = np.arange(0, 1, 0.01)  \n",
        "# y = uniform.ppf(x, 0, 5)  \n",
        "# plt.plot(x, y) \n",
        "# plt.show()\n",
        "\n",
        "# #fixing the seed for reproducibility\n",
        "# #of the result\n",
        "# np.random.seed(10)\n",
        "# #creating a vector containing 10000\n",
        "# #uniformly distributed random numbers\n",
        "# y = uniform.rvs(0, 5, 10000)\n",
        "# #creating bin\n",
        "# bin = np.arange(-3,8,0.1)  \n",
        "# plt.hist(y, bins=bin, edgecolor='blue') \n",
        "# plt.show()\n",
        "\n",
        "# CDF or area under the curve of Uniform dist\n",
        "# st.uniform.cdf(5.8,loc=3,scale=5)\n",
        "\n",
        "# mean, variance, Skewness, kurtosis\n",
        "#  uniform.stats(loc=3,scale=5, moments='mvsk')"
      ],
      "metadata": {
        "colab": {
          "base_uri": "https://localhost:8080/"
        },
        "id": "97Pbx0iAzbH3",
        "outputId": "d51b2f16-5fbb-4cb6-bee2-ac2fc00e783c"
      },
      "id": "97Pbx0iAzbH3",
      "execution_count": null,
      "outputs": [
        {
          "output_type": "execute_result",
          "data": {
            "text/plain": [
              "(array(5.5), array(2.08333333), array(0.), array(-1.2))"
            ]
          },
          "metadata": {},
          "execution_count": 35
        }
      ]
    },
    {
      "cell_type": "code",
      "source": [
        "#Normal Dist\n",
        "\n",
        "# # #creating an array of values between\n",
        "# # -10 to 10 with a difference of 0.1\n",
        "x = np.arange(-10, 10, 0.1) \n",
        "y = norm.pdf(x, 0, 2)  \n",
        "plt.plot(x, y) \n",
        "plt.show()\n",
        "\n",
        "# #creating an array of values between\n",
        "# # -10 to 10 with a difference of 0.1\n",
        "# x = np.arange(-10, 10, 0.1)\n",
        "# y = norm.cdf(x, 0, 5) \n",
        "# plt.plot(x, y) \n",
        "# plt.show()\n",
        "\n",
        "# # #creating an array of probability from\n",
        "# #0 to 1 with a difference of 0.01\n",
        "# x = np.arange(0, 1, 0.01)  \n",
        "# y = norm.ppf(x, 0, 2)  \n",
        "# plt.plot(x, y) \n",
        "# plt.show()\n",
        "\n",
        "# # #fixing the seed for reproducibility\n",
        "# # #of the result\n",
        "# np.random.seed(10)\n",
        "# #creating a vector containing 10000\n",
        "# #uniformly distributed random numbers\n",
        "# y = norm.rvs(0, 1, 10000)\n",
        "# #creating bin\n",
        "# bin = np.arange(-4,4,0.1)  \n",
        "# plt.hist(y, bins=bin, edgecolor='blue') \n",
        "# plt.show()\n",
        "\n",
        "# CDF or area under the curve of Uniform dist\n",
        "st.norm.cdf(0,loc=0,scale=1)\n",
        "\n",
        "# mean, variance, Skewness, kurtosis\n",
        "norm.stats(loc=0,scale=1, moments='mvsk')\n"
      ],
      "metadata": {
        "colab": {
          "base_uri": "https://localhost:8080/",
          "height": 288
        },
        "id": "U0Ox2pVM8NBm",
        "outputId": "cea8b162-dcc8-4e3e-bcb5-b5aa07edbb6c"
      },
      "id": "U0Ox2pVM8NBm",
      "execution_count": null,
      "outputs": [
        {
          "output_type": "display_data",
          "data": {
            "text/plain": [
              "<Figure size 432x288 with 1 Axes>"
            ],
            "image/png": "[encoded data removed]"
          },
          "metadata": {
            "needs_background": "light"
          }
        },
        {
          "output_type": "execute_result",
          "data": {
            "text/plain": [
              "(array(0.), array(1.), array(0.), array(0.))"
            ]
          },
          "metadata": {},
          "execution_count": 98
        }
      ]
    },
    {
      "cell_type": "code",
      "source": [
        "# t Dist\n",
        "\n",
        "# # #creating an array of values between\n",
        "# # -10 to 10 with a difference of 0.1\n",
        "# x = np.arange(-4, 4, 0.1) \n",
        "# y = t.pdf(x, 1,0, 1) \n",
        "# z = norm.pdf(x, 0, 1)  \n",
        "# plt.plot(x, y) \n",
        "# plt.plot(x, z) \n",
        "# plt.show()\n",
        "\n",
        "# #creating an array of values between\n",
        "# # -10 to 10 with a difference of 0.1\n",
        "# x = np.arange(-10, 10, 0.1)\n",
        "# y = t.cdf(x,10, 0, 5) \n",
        "# plt.plot(x, y) \n",
        "# plt.show()\n",
        "\n",
        "# # #creating an array of probability from\n",
        "# #0 to 1 with a difference of 0.01\n",
        "# x = np.arange(0, 1, 0.01)  \n",
        "# y = t.ppf(x,10, 0, 2)  \n",
        "# plt.plot(x, y) \n",
        "# plt.show()\n",
        "\n",
        "# # #fixing the seed for reproducibility\n",
        "# #of the result\n",
        "# np.random.seed(10)\n",
        "# #creating a vector containing 10000\n",
        "# #uniformly distributed random numbers\n",
        "# y = t.rvs(10, 0, 1, 10000)\n",
        "# #creating bin\n",
        "# bin = np.arange(-4,4,0.1)  \n",
        "# plt.hist(y, bins=bin, edgecolor='blue') \n",
        "# plt.show()\n",
        "\n",
        "# # CDF or area under the curve of Uniform dist\n",
        "st.t.cdf(0,10, loc=0,scale=1)\n",
        "\n",
        "# # mean, variance, Skewness, kurtosis\n",
        "t.stats(30, loc=0,scale=1, moments='mvsk')\n"
      ],
      "metadata": {
        "colab": {
          "base_uri": "https://localhost:8080/"
        },
        "id": "WeSM2K3aHxgL",
        "outputId": "8b094d91-65ff-41c0-e431-2c3a720044fd"
      },
      "id": "WeSM2K3aHxgL",
      "execution_count": null,
      "outputs": [
        {
          "output_type": "execute_result",
          "data": {
            "text/plain": [
              "(array(0.), array(1.07142857), array(0.), array(0.23076923))"
            ]
          },
          "metadata": {},
          "execution_count": 92
        }
      ]
    },
    {
      "cell_type": "code",
      "source": [
        "#Lognormal Dist\n",
        "\n",
        "# # #creating an array of values between\n",
        "# # -10 to 10 with a difference of 0.1\n",
        "# x = np.arange(-1, 10, 0.1) \n",
        "# y = lognorm.pdf(x, 1, 0, 2)  \n",
        "# plt.plot(x, y) \n",
        "# plt.show()\n",
        "\n",
        "# # #creating an array of values between\n",
        "# # # -10 to 10 with a difference of 0.1\n",
        "# x = np.arange(-1, 10, 0.1) \n",
        "# y = lognorm.cdf(x, 1, 0, 2) \n",
        "# plt.plot(x, y) \n",
        "# plt.show()\n",
        "\n",
        "# # # #creating an array of probability from\n",
        "# # #0 to 1 with a difference of 0.01\n",
        "# x = np.arange(0, 1, 0.01)  \n",
        "# y = lognorm.ppf(x, 1, 0, 2)  \n",
        "# plt.plot(x, y) \n",
        "# plt.show()\n",
        "\n",
        "# # # #fixing the seed for reproducibility\n",
        "# # # #of the result\n",
        "# np.random.seed(10)\n",
        "# #creating a vector containing 10000\n",
        "# #uniformly distributed random numbers\n",
        "# y = lognorm.rvs(1,1, 1, 10000)\n",
        "# #creating bin\n",
        "# bin = np.arange(-1,10,0.1)  \n",
        "# plt.hist(y, bins=bin, edgecolor='blue') \n",
        "# plt.show()\n",
        "\n",
        "# CDF or area under the curve of Uniform dist\n",
        "st.lognorm.cdf(1,1,loc=0,scale=1)\n",
        "\n",
        "# mean, variance, Skewness, kurtosis\n",
        "# lognorm.stats(1,loc=0,scale=1, moments='mvsk')\n"
      ],
      "metadata": {
        "colab": {
          "base_uri": "https://localhost:8080/"
        },
        "id": "Z9DT5chsNNGi",
        "outputId": "d960c838-336c-401d-b019-c9ad859f2ea8"
      },
      "id": "Z9DT5chsNNGi",
      "execution_count": null,
      "outputs": [
        {
          "output_type": "execute_result",
          "data": {
            "text/plain": [
              "0.9171714809983016"
            ]
          },
          "metadata": {},
          "execution_count": 118
        }
      ]
    },
    {
      "cell_type": "code",
      "source": [
        "# Exponential Dist\n",
        "\n",
        "# # # #creating an array of values between\n",
        "# # -10 to 10 with a difference of 0.1\n",
        "x = np.arange(-1, 10, 0.1) \n",
        "y = expon.pdf(x, 0, 2)  \n",
        "plt.plot(x, y) \n",
        "plt.show()\n",
        "\n",
        "# # #creating an array of values between\n",
        "# # -10 to 10 with a difference of 0.1\n",
        "# x = np.arange(-1, 10, 0.1)\n",
        "# y = expon.cdf(x, 0, 5) \n",
        "# plt.plot(x, y) \n",
        "# plt.show()\n",
        "\n",
        "# # # #creating an array of probability from\n",
        "# #0 to 1 with a difference of 0.01\n",
        "# x = np.arange(0, 1, 0.01)  \n",
        "# y = expon.ppf(x, 0, 2)  \n",
        "# plt.plot(x, y) \n",
        "# plt.show()\n",
        "\n",
        "# # # #fixing the seed for reproducibility\n",
        "# # # #of the result\n",
        "# np.random.seed(10)\n",
        "# #creating a vector containing 10000\n",
        "# #uniformly distributed random numbers\n",
        "# y = expon.rvs(0, 1, 10000)\n",
        "# #creating bin\n",
        "# bin = np.arange(-1,10,0.1)  \n",
        "# plt.hist(y, bins=bin, edgecolor='blue') \n",
        "# plt.show()\n",
        "\n",
        "# CDF or area under the curve of Uniform dist\n",
        "# st.expon.cdf(1,loc=0,scale=1)\n",
        "\n",
        "# # mean, variance, Skewness, kurtosis\n",
        "# expon.stats(loc=0,scale=10, moments='mvsk')"
      ],
      "metadata": {
        "id": "Oan81QZ_AO1N"
      },
      "id": "Oan81QZ_AO1N",
      "execution_count": null,
      "outputs": []
    },
    {
      "cell_type": "code",
      "source": [
        "#Chi-Square Dist\n",
        "\n",
        "# # #creating an array of values between\n",
        "# -10 to 10 with a difference of 0.1\n",
        "x = np.arange(-1, 60, 0.1) \n",
        "y = chi2.pdf(x, 10, 0, 1)  \n",
        "z = chi2.pdf(x, 20, 0, 1)  \n",
        "t = chi2.pdf(x, 30, 0, 1)  \n",
        "plt.plot(x, y) \n",
        "plt.plot(x, z) \n",
        "plt.plot(x, t) \n",
        "plt.show()\n",
        "\n",
        "# # #creating an array of values between\n",
        "# # # -10 to 10 with a difference of 0.1\n",
        "# x = np.arange(-1, 10, 0.1) \n",
        "# y = chi.cdf(x, 1, 0, 2) \n",
        "# plt.plot(x, y) \n",
        "# plt.show()\n",
        "\n",
        "# # # #creating an array of probability from\n",
        "# # #0 to 1 with a difference of 0.01\n",
        "# x = np.arange(0, 1, 0.01)  \n",
        "# y = chi.ppf(x, 1, 0, 2)  \n",
        "# plt.plot(x, y) \n",
        "# plt.show()\n",
        "\n",
        "# # # #fixing the seed for reproducibility\n",
        "# # # #of the result\n",
        "# np.random.seed(10)\n",
        "# #creating a vector containing 10000\n",
        "# #uniformly distributed random numbers\n",
        "# y = chi.rvs(1,1, 1, 10000)\n",
        "# #creating bin\n",
        "# bin = np.arange(-1,10,0.1)  \n",
        "# plt.hist(y, bins=bin, edgecolor='blue') \n",
        "# plt.show()\n",
        "\n",
        "# CDF or area under the curve of Uniform dist\n",
        "# st.chi.cdf(1,1,loc=0,scale=1)\n",
        "\n",
        "# mean, variance, Skewness, kurtosis\n",
        "# chi.stats(1,loc=0,scale=1, moments='mvsk')\n"
      ],
      "metadata": {
        "colab": {
          "base_uri": "https://localhost:8080/",
          "height": 271
        },
        "id": "Z3Ps6UP6wIhs",
        "outputId": "fc7bf7f0-1e25-49c6-ffa7-88aca8c2b455"
      },
      "id": "Z3Ps6UP6wIhs",
      "execution_count": null,
      "outputs": [
        {
          "output_type": "display_data",
          "data": {
            "text/plain": [
              "<Figure size 432x288 with 1 Axes>"
            ],
            "image/png": "[encoded data removed]"
          },
          "metadata": {
            "needs_background": "light"
          }
        }
      ]
    },
    {
      "cell_type": "code",
      "source": [
        "# LOAD THE DATA\n",
        "df = pd.read_excel(\"//content/drive/MyDrive/Colab Notebooks/Class_Activity_Chapter03_Data_Exploration.xlsx\") #this is a address in your google drive by clicking on three dots\n",
        "\n",
        "# Method 1: Create a Histogram\n",
        "# plt.hist(df['Height'], bins=10, cumulative=False) # range can be added range=[100,200]\n",
        "\n",
        "# Method 2: Skewness and Kurtosis Z Value\n",
        "# df.skew(axis = 0)\n",
        "# df.kurt(axis = 0)\n",
        "# df.sem(axis = 0)\n",
        "# df['Height'].skew()/df['Height'].sem()\n",
        "# df['Height'].kurt()/df['Height'].sem()\n",
        "\n",
        "# Method 3: PP and QQ Plot\n",
        "# stats.probplot(df['Height'], dist=\"norm\", plot=pylab)\n",
        "# sm.qqplot(df['Height'])\n",
        "\n",
        "# Method 4: SW and KS test\n",
        "# shapiro(df['Height'])\n",
        "# kstest(df['Height'], 'norm')\n",
        "# lognorm_dataset = lognorm.rvs(s=.5, scale=10, size=1000)\n",
        "# shapiro(lognorm_dataset)\n",
        "\n",
        "How to Handle Non-Normal Data\n",
        "1. Log Transformation: Transform the values from x to log(x).\n",
        "2. Square Root Transformation: Transform the values from x to √x.\n",
        "3. Cube Root Transformation: Transform the values from x to x1/3.\n"
      ],
      "metadata": {
        "colab": {
          "base_uri": "https://localhost:8080/"
        },
        "id": "1K1WnJ6KUvzs",
        "outputId": "8be72229-1f17-423d-fe7b-42b23af34562"
      },
      "id": "1K1WnJ6KUvzs",
      "execution_count": null,
      "outputs": [
        {
          "output_type": "execute_result",
          "data": {
            "text/plain": [
              "ShapiroResult(statistic=0.9178728461265564, pvalue=7.191349413125922e-23)"
            ]
          },
          "metadata": {},
          "execution_count": 193
        }
      ]
    },
    {
      "cell_type": "code",
      "source": [
        "# Chi square test\n",
        "\n",
        "from scipy.stats import chisquare\n",
        "chisquare([16, 18, 16, 14, 12, 12])\n",
        "\n",
        "chisquare([16, 18, 16, 14, 12, 12], f_exp=[16, 16, 16, 16, 16, 8])\n"
      ],
      "metadata": {
        "colab": {
          "base_uri": "https://localhost:8080/"
        },
        "id": "iJoa-iJZjXVW",
        "outputId": "24c45537-b5e1-462c-8229-f6db2f6a1650"
      },
      "id": "iJoa-iJZjXVW",
      "execution_count": null,
      "outputs": [
        {
          "output_type": "execute_result",
          "data": {
            "text/plain": [
              "Power_divergenceResult(statistic=3.5, pvalue=0.6233876277495822)"
            ]
          },
          "metadata": {},
          "execution_count": 221
        }
      ]
    },
    {
      "cell_type": "code",
      "source": [
        "# Fitting Distribution\n",
        "# height = df[\"Height\"].values\n",
        "# f = Fitter(height,\n",
        "#            distributions=['gamma',\n",
        "#                           'lognorm',\n",
        "#                           \"beta\",\n",
        "#                           \"burr\",\n",
        "#                           \"norm\"])\n",
        "# f.fit()\n",
        "# f.summary()\n",
        "# f.get_best(method = 'sumsquare_error')\n",
        "# f.fitted_param[\"beta\"]\n",
        "\n",
        "mu, sigma = 0, 0.1 # mean and standard deviation\n",
        "data = np.random.normal(mu, sigma, 10000)\n",
        "f = Fitter(data,\n",
        "           distributions= get_common_distributions())\n",
        "f.fit()\n",
        "f.summary()\n",
        "f.get_best(method = 'sumsquare_error')\n"
      ],
      "metadata": {
        "colab": {
          "base_uri": "https://localhost:8080/",
          "height": 306
        },
        "id": "TjurvtCxgyuN",
        "outputId": "72761e10-82ad-427a-f48d-8cfac4af423d"
      },
      "id": "TjurvtCxgyuN",
      "execution_count": null,
      "outputs": [
        {
          "output_type": "stream",
          "name": "stderr",
          "text": [
            "Fitting 10 distributions: 100%|██████████| 10/10 [00:02<00:00,  4.31it/s]\n"
          ]
        },
        {
          "output_type": "execute_result",
          "data": {
            "text/plain": [
              "{'norm': {'loc': 0.001764860550301109, 'scale': 0.10020546137989213}}"
            ]
          },
          "metadata": {},
          "execution_count": 218
        },
        {
          "output_type": "display_data",
          "data": {
            "text/plain": [
              "<Figure size 432x288 with 1 Axes>"
            ],
            "image/png": "[encoded data removed]"
          },
          "metadata": {
            "needs_background": "light"
          }
        }
      ]
    },
    {
      "cell_type": "code",
      "source": [
        "from google.colab import drive\n",
        "drive.mount('/content/drive')"
      ],
      "metadata": {
        "id": "Mfu8bORfU9hy",
        "colab": {
          "base_uri": "https://localhost:8080/"
        },
        "outputId": "66772cb9-1b50-4c87-d7d1-5d32b2bd75b5"
      },
      "id": "Mfu8bORfU9hy",
      "execution_count": null,
      "outputs": [
        {
          "output_type": "stream",
          "name": "stdout",
          "text": [
            "Mounted at /content/drive\n"
          ]
        }
      ]
    }
  ],
  "metadata": {
    "kernelspec": {
      "display_name": "Python 3 (ipykernel)",
      "language": "python",
      "name": "python3"
    },
    "language_info": {
      "codemirror_mode": {
        "name": "ipython",
        "version": 3
      },
      "file_extension": ".py",
      "mimetype": "text/x-python",
      "name": "python",
      "nbconvert_exporter": "python",
      "pygments_lexer": "ipython3",
      "version": "3.9.7"
    },
    "colab": {
      "provenance": [],
      "collapsed_sections": []
    }
  },
  "nbformat": 4,
  "nbformat_minor": 5
}