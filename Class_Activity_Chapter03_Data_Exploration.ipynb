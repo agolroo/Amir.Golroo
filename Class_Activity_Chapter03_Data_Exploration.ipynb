{
  "cells": [
    {
      "cell_type": "code",
      "execution_count": 33,
      "metadata": {
        "id": "_1IXSiyp0z3b",
        "colab": {
          "base_uri": "https://localhost:8080/"
        },
        "outputId": "f892ea19-e5da-4d12-d3cc-9e9ed9a33b79"
      },
      "outputs": [
        {
          "output_type": "stream",
          "name": "stdout",
          "text": [
            "Looking in indexes: https://pypi.org/simple, https://us-python.pkg.dev/colab-wheels/public/simple/\n",
            "Requirement already satisfied: stemgraphic in /usr/local/lib/python3.7/dist-packages (0.9.1)\n",
            "Requirement already satisfied: matplotlib in /usr/local/lib/python3.7/dist-packages (from stemgraphic) (3.2.2)\n",
            "Requirement already satisfied: pandas in /usr/local/lib/python3.7/dist-packages (from stemgraphic) (1.3.5)\n",
            "Requirement already satisfied: docopt in /usr/local/lib/python3.7/dist-packages (from stemgraphic) (0.6.2)\n",
            "Requirement already satisfied: seaborn in /usr/local/lib/python3.7/dist-packages (from stemgraphic) (0.11.2)\n",
            "Requirement already satisfied: pyparsing!=2.0.4,!=2.1.2,!=2.1.6,>=2.0.1 in /usr/local/lib/python3.7/dist-packages (from matplotlib->stemgraphic) (3.0.9)\n",
            "Requirement already satisfied: cycler>=0.10 in /usr/local/lib/python3.7/dist-packages (from matplotlib->stemgraphic) (0.11.0)\n",
            "Requirement already satisfied: kiwisolver>=1.0.1 in /usr/local/lib/python3.7/dist-packages (from matplotlib->stemgraphic) (1.4.4)\n",
            "Requirement already satisfied: numpy>=1.11 in /usr/local/lib/python3.7/dist-packages (from matplotlib->stemgraphic) (1.21.6)\n",
            "Requirement already satisfied: python-dateutil>=2.1 in /usr/local/lib/python3.7/dist-packages (from matplotlib->stemgraphic) (2.8.2)\n",
            "Requirement already satisfied: typing-extensions in /usr/local/lib/python3.7/dist-packages (from kiwisolver>=1.0.1->matplotlib->stemgraphic) (4.1.1)\n",
            "Requirement already satisfied: six>=1.5 in /usr/local/lib/python3.7/dist-packages (from python-dateutil>=2.1->matplotlib->stemgraphic) (1.15.0)\n",
            "Requirement already satisfied: pytz>=2017.3 in /usr/local/lib/python3.7/dist-packages (from pandas->stemgraphic) (2022.4)\n",
            "Requirement already satisfied: scipy>=1.0 in /usr/local/lib/python3.7/dist-packages (from seaborn->stemgraphic) (1.7.3)\n"
          ]
        }
      ],
      "source": [
        "# Import Libaries\n",
        "import numpy as np\n",
        "import pandas as pd\n",
        "import matplotlib.pyplot as plt\n",
        "from matplotlib import pyplot\n",
        "import statistics\n",
        "from statistics import mode\n",
        "import sys\n",
        "!{sys.executable} -m pip install stemgraphic\n",
        "import stemgraphic\n",
        "import plotly.express as px\n",
        "import seaborn as sn\n",
        "import matplotlib.pyplot as plt\n"
      ]
    },
    {
      "cell_type": "code",
      "execution_count": 3,
      "metadata": {
        "id": "DZB8d82204QO"
      },
      "outputs": [],
      "source": [
        "# LOAD THE DATA\n",
        "df = pd.read_excel(\"/content/drive/MyDrive/Class_Activity_Chapter03_Data_Exploration.xlsx\") #this is a address in your google drive by clicking on three dots"
      ]
    },
    {
      "cell_type": "markdown",
      "metadata": {
        "id": "6CuTSqYJEL8x"
      },
      "source": [
        "Categorical Vairables"
      ]
    },
    {
      "cell_type": "code",
      "execution_count": null,
      "metadata": {
        "id": "0hQ_A3H_1X6H"
      },
      "outputs": [],
      "source": [
        "# Frequency\n",
        "# for col in df.select_dtypes(include=\"object\"):\n",
        "#   print(df[col].value_counts())\n",
        "# Crosstable\n",
        "# pd.crosstab(df.Sex, df.Math)\n",
        "# create bar chart\n",
        "# pyplot.bar(df['Sex'])\n",
        "# df.boxplot(column=['Height','Shoe size'])\n",
        "# ax = df.plot.bar(x='Sex', y='df['Sex'].value_counts', rot=0)\n",
        "# plt.hist(df['Math'])\n",
        "# df.groupby('Sex').size().plot(kind='pie', autopct='%.2f')"
      ]
    },
    {
      "cell_type": "markdown",
      "metadata": {
        "id": "u0CNb16AERua"
      },
      "source": [
        "Quantitative Variables"
      ]
    },
    {
      "cell_type": "code",
      "execution_count": 30,
      "metadata": {
        "colab": {
          "base_uri": "https://localhost:8080/",
          "height": 360
        },
        "id": "KFP_dyeEZPYJ",
        "outputId": "eeb2c76a-2570-4f70-ef12-47491b2c61ed"
      },
      "outputs": [
        {
          "output_type": "display_data",
          "data": {
            "text/plain": [
              "<Figure size 432x162 with 1 Axes>"
            ],
            "image/png": "[encoded data removed]"
          },
          "metadata": {
            "needs_background": "light"
          }
        },
        {
          "output_type": "execute_result",
          "data": {
            "text/plain": [
              "(<Figure size 540x144 with 1 Axes>,\n",
              " <matplotlib.axes._axes.Axes at 0x7f6f68196ed0>)"
            ]
          },
          "metadata": {},
          "execution_count": 30
        },
        {
          "output_type": "display_data",
          "data": {
            "text/plain": [
              "<Figure size 540x144 with 1 Axes>"
            ],
            "image/png": "[encoded data removed]"
          },
          "metadata": {
            "needs_background": "light"
          }
        }
      ],
      "source": [
        "# plt.hist(df['Height'], bins=5, cumulative=False) # range cane be added range=[100,200]\n",
        "# plt.hist(df['Height'], bins=5, cumulative=True) # range cane be added range=[100,200]\n",
        "# ax2 = df.plot.scatter(x='Height', y='Shoe size')\n",
        "# ax2 = df.plot.scatter(x='Height', y='Shoe size',c='Age',colormap='viridis')\n",
        "\n",
        "#Dot Plot\n",
        "# values, counts = np.unique(df.Distance, return_counts=True)\n",
        "# # Draw dot plot with appropriate figure size, marker size and y-axis limits\n",
        "# fig, ax = plt.subplots(figsize=(6, 2.25))\n",
        "# for value, count in zip(values, counts):\n",
        "#     ax.plot([value]*count, list(range(count)), 'co', ms=10, linestyle='')\n",
        "# for spine in ['top', 'right', 'left']:\n",
        "#     ax.spines[spine].set_visible(False)\n",
        "# ax.yaxis.set_visible(False)\n",
        "# ax.set_ylim(-1, max(counts))\n",
        "# # ax.set_xticks(range(min(values), max(values)+1))\n",
        "# ax.tick_params(axis='x', length=0, pad=8, labelsize=12)\n",
        "# plt.show()\n",
        "\n",
        "# #Stem&Leaf\n",
        "# stemgraphic.stem_graphic(df['Height'], scale = 10)\n",
        "\n"
      ]
    },
    {
      "cell_type": "markdown",
      "source": [
        "Measure of location"
      ],
      "metadata": {
        "id": "Sl4PyHpKxgBG"
      }
    },
    {
      "cell_type": "code",
      "source": [
        "df.describe()\n",
        "# mode(df.Height)\n",
        "# df.head()\n",
        "# df.replace(190,1900, inplace=True)\n",
        "# df = pd.read_excel(\"/content/drive/MyDrive/Class_Activity_Chapter03_Data_Exploration.xlsx\") "
      ],
      "metadata": {
        "colab": {
          "base_uri": "https://localhost:8080/",
          "height": 300
        },
        "id": "-AYvu-p3xisy",
        "outputId": "6426c330-495c-4e2e-95ca-2eb2f44b0e27"
      },
      "execution_count": 41,
      "outputs": [
        {
          "output_type": "execute_result",
          "data": {
            "text/plain": [
              "           Height   Distance  Shoe size        Age     Weight\n",
              "count   92.000000  92.000000  92.000000  92.000000  92.000000\n",
              "mean   174.807826   2.238696   9.809783  26.902174  74.817576\n",
              "std      9.707872   1.888266   1.891047   5.412764  10.412161\n",
              "min    150.000000   0.150000   5.000000  18.000000  46.873615\n",
              "25%    168.750000   1.200000   8.875000  22.000000  68.518557\n",
              "50%    175.000000   2.000000  10.000000  27.500000  75.344545\n",
              "75%    180.500000   2.700000  11.000000  32.000000  81.227227\n",
              "max    198.000000  16.000000  14.000000  35.000000  99.562105"
            ],
            "text/html": [
              "\n",
              "  <div id=\"df-b2c601c0-6962-4c7f-a411-1cae820e5ddf\">\n",
              "    <div class=\"colab-df-container\">\n",
              "      <div>\n",
              "<style scoped>\n",
              "    .dataframe tbody tr th:only-of-type {\n",
              "        vertical-align: middle;\n",
              "    }\n",
              "\n",
              "    .dataframe tbody tr th {\n",
              "        vertical-align: top;\n",
              "    }\n",
              "\n",
              "    .dataframe thead th {\n",
              "        text-align: right;\n",
              "    }\n",
              "</style>\n",
              "<table border=\"1\" class=\"dataframe\">\n",
              "  <thead>\n",
              "    <tr style=\"text-align: right;\">\n",
              "      <th></th>\n",
              "      <th>Height</th>\n",
              "      <th>Distance</th>\n",
              "      <th>Shoe size</th>\n",
              "      <th>Age</th>\n",
              "      <th>Weight</th>\n",
              "    </tr>\n",
              "  </thead>\n",
              "  <tbody>\n",
              "    <tr>\n",
              "      <th>count</th>\n",
              "      <td>92.000000</td>\n",
              "      <td>92.000000</td>\n",
              "      <td>92.000000</td>\n",
              "      <td>92.000000</td>\n",
              "      <td>92.000000</td>\n",
              "    </tr>\n",
              "    <tr>\n",
              "      <th>mean</th>\n",
              "      <td>174.807826</td>\n",
              "      <td>2.238696</td>\n",
              "      <td>9.809783</td>\n",
              "      <td>26.902174</td>\n",
              "      <td>74.817576</td>\n",
              "    </tr>\n",
              "    <tr>\n",
              "      <th>std</th>\n",
              "      <td>9.707872</td>\n",
              "      <td>1.888266</td>\n",
              "      <td>1.891047</td>\n",
              "      <td>5.412764</td>\n",
              "      <td>10.412161</td>\n",
              "    </tr>\n",
              "    <tr>\n",
              "      <th>min</th>\n",
              "      <td>150.000000</td>\n",
              "      <td>0.150000</td>\n",
              "      <td>5.000000</td>\n",
              "      <td>18.000000</td>\n",
              "      <td>46.873615</td>\n",
              "    </tr>\n",
              "    <tr>\n",
              "      <th>25%</th>\n",
              "      <td>168.750000</td>\n",
              "      <td>1.200000</td>\n",
              "      <td>8.875000</td>\n",
              "      <td>22.000000</td>\n",
              "      <td>68.518557</td>\n",
              "    </tr>\n",
              "    <tr>\n",
              "      <th>50%</th>\n",
              "      <td>175.000000</td>\n",
              "      <td>2.000000</td>\n",
              "      <td>10.000000</td>\n",
              "      <td>27.500000</td>\n",
              "      <td>75.344545</td>\n",
              "    </tr>\n",
              "    <tr>\n",
              "      <th>75%</th>\n",
              "      <td>180.500000</td>\n",
              "      <td>2.700000</td>\n",
              "      <td>11.000000</td>\n",
              "      <td>32.000000</td>\n",
              "      <td>81.227227</td>\n",
              "    </tr>\n",
              "    <tr>\n",
              "      <th>max</th>\n",
              "      <td>198.000000</td>\n",
              "      <td>16.000000</td>\n",
              "      <td>14.000000</td>\n",
              "      <td>35.000000</td>\n",
              "      <td>99.562105</td>\n",
              "    </tr>\n",
              "  </tbody>\n",
              "</table>\n",
              "</div>\n",
              "      <button class=\"colab-df-convert\" onclick=\"convertToInteractive('df-b2c601c0-6962-4c7f-a411-1cae820e5ddf')\"\n",
              "              title=\"Convert this dataframe to an interactive table.\"\n",
              "              style=\"display:none;\">\n",
              "        \n",
              "  <svg xmlns=\"http://www.w3.org/2000/svg\" height=\"24px\"viewBox=\"0 0 24 24\"\n",
              "       width=\"24px\">\n",
              "    <path d=\"M0 0h24v24H0V0z\" fill=\"none\"/>\n",
              "    <path d=\"M18.56 5.44l.94 2.06.94-2.06 2.06-.94-2.06-.94-.94-2.06-.94 2.06-2.06.94zm-11 1L8.5 8.5l.94-2.06 2.06-.94-2.06-.94L8.5 2.5l-.94 2.06-2.06.94zm10 10l.94 2.06.94-2.06 2.06-.94-2.06-.94-.94-2.06-.94 2.06-2.06.94z\"/><path d=\"M17.41 7.96l-1.37-1.37c-.4-.4-.92-.59-1.43-.59-.52 0-1.04.2-1.43.59L10.3 9.45l-7.72 7.72c-.78.78-.78 2.05 0 2.83L4 21.41c.39.39.9.59 1.41.59.51 0 1.02-.2 1.41-.59l7.78-7.78 2.81-2.81c.8-.78.8-2.07 0-2.86zM5.41 20L4 18.59l7.72-7.72 1.47 1.35L5.41 20z\"/>\n",
              "  </svg>\n",
              "      </button>\n",
              "      \n",
              "  <style>\n",
              "    .colab-df-container {\n",
              "      display:flex;\n",
              "      flex-wrap:wrap;\n",
              "      gap: 12px;\n",
              "    }\n",
              "\n",
              "    .colab-df-convert {\n",
              "      background-color: #E8F0FE;\n",
              "      border: none;\n",
              "      border-radius: 50%;\n",
              "      cursor: pointer;\n",
              "      display: none;\n",
              "      fill: #1967D2;\n",
              "      height: 32px;\n",
              "      padding: 0 0 0 0;\n",
              "      width: 32px;\n",
              "    }\n",
              "\n",
              "    .colab-df-convert:hover {\n",
              "      background-color: #E2EBFA;\n",
              "      box-shadow: 0px 1px 2px rgba(60, 64, 67, 0.3), 0px 1px 3px 1px rgba(60, 64, 67, 0.15);\n",
              "      fill: #174EA6;\n",
              "    }\n",
              "\n",
              "    [theme=dark] .colab-df-convert {\n",
              "      background-color: #3B4455;\n",
              "      fill: #D2E3FC;\n",
              "    }\n",
              "\n",
              "    [theme=dark] .colab-df-convert:hover {\n",
              "      background-color: #434B5C;\n",
              "      box-shadow: 0px 1px 3px 1px rgba(0, 0, 0, 0.15);\n",
              "      filter: drop-shadow(0px 1px 2px rgba(0, 0, 0, 0.3));\n",
              "      fill: #FFFFFF;\n",
              "    }\n",
              "  </style>\n",
              "\n",
              "      <script>\n",
              "        const buttonEl =\n",
              "          document.querySelector('#df-b2c601c0-6962-4c7f-a411-1cae820e5ddf button.colab-df-convert');\n",
              "        buttonEl.style.display =\n",
              "          google.colab.kernel.accessAllowed ? 'block' : 'none';\n",
              "\n",
              "        async function convertToInteractive(key) {\n",
              "          const element = document.querySelector('#df-b2c601c0-6962-4c7f-a411-1cae820e5ddf');\n",
              "          const dataTable =\n",
              "            await google.colab.kernel.invokeFunction('convertToInteractive',\n",
              "                                                     [key], {});\n",
              "          if (!dataTable) return;\n",
              "\n",
              "          const docLinkHtml = 'Like what you see? Visit the ' +\n",
              "            '<a target=\"_blank\" href=https://colab.research.google.com/notebooks/data_table.ipynb>data table notebook</a>'\n",
              "            + ' to learn more about interactive tables.';\n",
              "          element.innerHTML = '';\n",
              "          dataTable['output_type'] = 'display_data';\n",
              "          await google.colab.output.renderOutput(dataTable, element);\n",
              "          const docLink = document.createElement('div');\n",
              "          docLink.innerHTML = docLinkHtml;\n",
              "          element.appendChild(docLink);\n",
              "        }\n",
              "      </script>\n",
              "    </div>\n",
              "  </div>\n",
              "  "
            ]
          },
          "metadata": {},
          "execution_count": 41
        }
      ]
    },
    {
      "cell_type": "markdown",
      "source": [
        "Measure of variability"
      ],
      "metadata": {
        "id": "LQhWg8Zqyjxq"
      }
    },
    {
      "cell_type": "code",
      "source": [
        "df.var()\n",
        "df.std()\n",
        "df.var()['Height']/df.mean()['Height']\n",
        "df.describe() #Range and IQR\n",
        "df.cov()\n",
        "df.corr()\n",
        "px.scatter_matrix(df)\n",
        "sn.heatmap(df.corr(), annot=True)\n"
      ],
      "metadata": {
        "colab": {
          "base_uri": "https://localhost:8080/",
          "height": 506
        },
        "id": "WGjFCQs0yr7d",
        "outputId": "d0804b62-8a53-4b90-be7d-5afe05fca6c8"
      },
      "execution_count": 35,
      "outputs": [
        {
          "output_type": "stream",
          "name": "stderr",
          "text": [
            "/usr/local/lib/python3.7/dist-packages/ipykernel_launcher.py:1: FutureWarning:\n",
            "\n",
            "Dropping of nuisance columns in DataFrame reductions (with 'numeric_only=None') is deprecated; in a future version this will raise TypeError.  Select only valid columns before calling the reduction.\n",
            "\n",
            "/usr/local/lib/python3.7/dist-packages/ipykernel_launcher.py:2: FutureWarning:\n",
            "\n",
            "Dropping of nuisance columns in DataFrame reductions (with 'numeric_only=None') is deprecated; in a future version this will raise TypeError.  Select only valid columns before calling the reduction.\n",
            "\n",
            "/usr/local/lib/python3.7/dist-packages/ipykernel_launcher.py:3: FutureWarning:\n",
            "\n",
            "Dropping of nuisance columns in DataFrame reductions (with 'numeric_only=None') is deprecated; in a future version this will raise TypeError.  Select only valid columns before calling the reduction.\n",
            "\n"
          ]
        },
        {
          "output_type": "execute_result",
          "data": {
            "text/plain": [
              "<matplotlib.axes._subplots.AxesSubplot at 0x7f6f53e49590>"
            ]
          },
          "metadata": {},
          "execution_count": 35
        },
        {
          "output_type": "display_data",
          "data": {
            "text/plain": [
              "<Figure size 432x288 with 2 Axes>"
            ],
            "image/png": "[encoded data removed]"
          },
          "metadata": {
            "needs_background": "light"
          }
        }
      ]
    },
    {
      "cell_type": "code",
      "source": [
        "from google.colab import drive\n",
        "drive.mount('/content/drive')"
      ],
      "metadata": {
        "colab": {
          "base_uri": "https://localhost:8080/"
        },
        "id": "BawJWO8fv47H",
        "outputId": "3f9dbac4-f149-4844-b3a8-fb7117151025"
      },
      "execution_count": null,
      "outputs": [
        {
          "output_type": "stream",
          "name": "stdout",
          "text": [
            "Drive already mounted at /content/drive; to attempt to forcibly remount, call drive.mount(\"/content/drive\", force_remount=True).\n"
          ]
        }
      ]
    }
  ],
  "metadata": {
    "colab": {
      "provenance": [],
      "collapsed_sections": []
    },
    "kernelspec": {
      "display_name": "Python 3",
      "name": "python3"
    },
    "language_info": {
      "name": "python"
    }
  },
  "nbformat": 4,
  "nbformat_minor": 0
}